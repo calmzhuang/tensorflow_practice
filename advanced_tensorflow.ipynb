{
 "cells": [
  {
   "cell_type": "code",
   "execution_count": 1,
   "metadata": {},
   "outputs": [
    {
     "name": "stderr",
     "output_type": "stream",
     "text": [
      "D:\\anaconda3\\lib\\site-packages\\h5py\\__init__.py:36: FutureWarning: Conversion of the second argument of issubdtype from `float` to `np.floating` is deprecated. In future, it will be treated as `np.float64 == np.dtype(float).type`.\n",
      "  from ._conv import register_converters as _register_converters\n"
     ]
    }
   ],
   "source": [
    "import tensorflow as tf\n",
    "import numpy as np"
   ]
  },
  {
   "cell_type": "code",
   "execution_count": 2,
   "metadata": {
    "collapsed": true
   },
   "outputs": [],
   "source": [
    "sess = tf.Session()"
   ]
  },
  {
   "cell_type": "code",
   "execution_count": 3,
   "metadata": {},
   "outputs": [
    {
     "name": "stdout",
     "output_type": "stream",
     "text": [
      "3.0\n",
      "9.0\n",
      "15.0\n",
      "21.0\n",
      "27.0\n"
     ]
    }
   ],
   "source": [
    "x_vals = np.array([1.0, 3.0, 5.0, 7.0, 9.0])\n",
    "x_data = tf.placeholder(tf.float32)\n",
    "my_const = tf.constant(3.0)\n",
    "my_product = tf.multiply(x_data, my_const)\n",
    "for x_val in x_vals:\n",
    "    print(sess.run(my_product, feed_dict={x_data: x_val}))"
   ]
  },
  {
   "cell_type": "code",
   "execution_count": 5,
   "metadata": {},
   "outputs": [
    {
     "name": "stdout",
     "output_type": "stream",
     "text": [
      "[[102.]\n",
      " [ 66.]\n",
      " [ 58.]]\n",
      "[[114.]\n",
      " [ 78.]\n",
      " [ 70.]]\n"
     ]
    }
   ],
   "source": [
    "my_array = np.array([[1.0, 3.0, 5.0, 7.0, 9.0], [-2.0, 0.0, 2.0, 4.0, 6.0], [-6.0, -3.0, 0.0, 3.0, 6.0]])\n",
    "x_vals = np.array([my_array, my_array + 1])\n",
    "x_data = tf.placeholder(tf.float32, shape=(3, 5))\n",
    "m1 = tf.constant([[1.0], [0.0], [-1.0], [2.0], [4.0]])\n",
    "m2 = tf.constant([[2.0]])\n",
    "a1 = tf.constant([[10.0]])\n",
    "prod1 = tf.matmul(x_data, m1)\n",
    "prod2 = tf.matmul(prod1, m2)\n",
    "add1 = tf.add(prod2, a1)\n",
    "for x_val in x_vals:\n",
    "    print(sess.run(add1, feed_dict={x_data: x_val}))"
   ]
  },
  {
   "cell_type": "code",
   "execution_count": 7,
   "metadata": {},
   "outputs": [],
   "source": [
    "x_shape = [1, 4, 4, 1]\n",
    "x_val = np.random.uniform(size=x_shape)\n",
    "x_data = tf.placeholder(tf.float32, shape=x_shape)\n",
    "my_filter = tf.constant(0.25, shape=[2, 2, 1, 1])\n",
    "my_strides = [1, 2, 2, 1]\n",
    "mov_avg_layer = tf.nn.conv2d(x_data, my_filter, my_strides, padding=\"SAME\", name=\"Moving_Avg_Window\")"
   ]
  },
  {
   "cell_type": "code",
   "execution_count": 10,
   "metadata": {
    "collapsed": true
   },
   "outputs": [],
   "source": [
    "def custom_layer(input_matrix):\n",
    "    input_matrix_squeezed = tf.squeeze(input_matrix)\n",
    "    A = tf.constant([[1.0, 2.0], [-1.0, 3.0]])\n",
    "    b = tf.constant(1.0, shape=[2, 2])\n",
    "    temp1 = tf.matmul(A, input_matrix_squeezed)\n",
    "    temp = tf.add(temp1, b)\n",
    "    return tf.sigmoid(temp)"
   ]
  },
  {
   "cell_type": "code",
   "execution_count": 11,
   "metadata": {},
   "outputs": [
    {
     "name": "stdout",
     "output_type": "stream",
     "text": [
      "[[0.9093057  0.9017819 ]\n",
      " [0.81714046 0.87712216]]\n"
     ]
    }
   ],
   "source": [
    "with tf.name_scope('Custom_Layer') as scope:\n",
    "    custom_layer1 = custom_layer(mov_avg_layer)\n",
    "    print(sess.run(custom_layer1, feed_dict={x_data: x_val}))"
   ]
  },
  {
   "cell_type": "code",
   "execution_count": 12,
   "metadata": {
    "collapsed": true
   },
   "outputs": [],
   "source": [
    "import matplotlib.pyplot as plt"
   ]
  },
  {
   "cell_type": "code",
   "execution_count": 13,
   "metadata": {
    "collapsed": true
   },
   "outputs": [],
   "source": [
    "x_vals = tf.linspace(-1.0, 1.0, 500)\n",
    "target = tf.constant(0.0)\n",
    "l2_y_vals = tf.square(target - x_vals)\n",
    "l2_y_out = sess.run(l2_y_vals)"
   ]
  },
  {
   "cell_type": "code",
   "execution_count": 15,
   "metadata": {},
   "outputs": [
    {
     "name": "stdout",
     "output_type": "stream",
     "text": [
      "(500,)\n"
     ]
    }
   ],
   "source": [
    "print(l2_y_out.shape)"
   ]
  },
  {
   "cell_type": "code",
   "execution_count": 16,
   "metadata": {
    "collapsed": true
   },
   "outputs": [],
   "source": [
    "l1_y_vals = tf.abs(target - x_vals)\n",
    "l1_y_out = sess.run(l1_y_vals)"
   ]
  },
  {
   "cell_type": "code",
   "execution_count": 17,
   "metadata": {
    "collapsed": true
   },
   "outputs": [],
   "source": [
    "delta1 = tf.constant(0.25)\n",
    "phuber1_y_vals = tf.multiply(tf.square(delta1), tf.sqrt(1.0 + tf.square((target - x_vals) / delta1)) - 1.0)\n",
    "phuber1_y_out = sess.run(phuber1_y_vals)\n",
    "delta2 = tf.constant(5.0)\n",
    "phuber2_y_vals = tf.multiply(tf.square(delta2), tf.sqrt(1.0 + tf.square((target - x_vals) / delta2)) - 1.0)\n",
    "phuber2_y_out = sess.run(phuber2_y_vals)"
   ]
  },
  {
   "cell_type": "code",
   "execution_count": 18,
   "metadata": {
    "collapsed": true
   },
   "outputs": [],
   "source": [
    "x_vals = tf.linspace(-3.0, 5.0, 500)\n",
    "target = tf.constant(1.0)\n",
    "targets = tf.fill([500,], 1.0)"
   ]
  },
  {
   "cell_type": "code",
   "execution_count": 19,
   "metadata": {
    "collapsed": true
   },
   "outputs": [],
   "source": [
    "hinge_y_vals = tf.maximum(0.0, 1.0 - tf.multiply(target, x_vals))\n",
    "hinge_y_out = sess.run(hinge_y_vals)"
   ]
  },
  {
   "cell_type": "code",
   "execution_count": 20,
   "metadata": {},
   "outputs": [
    {
     "name": "stdout",
     "output_type": "stream",
     "text": [
      "(500,)\n"
     ]
    }
   ],
   "source": [
    "print(hinge_y_out.shape)"
   ]
  },
  {
   "cell_type": "code",
   "execution_count": 39,
   "metadata": {},
   "outputs": [
    {
     "name": "stdout",
     "output_type": "stream",
     "text": [
      "0.00012565448\n"
     ]
    }
   ],
   "source": [
    "x_vals = tf.constant([[0.000123394, 0.00000226, 0.99987435]])\n",
    "target = tf.constant([[0.0, 0.0, 1]])\n",
    "# xentropy_y_vals = - tf.multiply(target, tf.log(x_vals)) - tf.multiply((1.0 - target), tf.log(1.0 - x_vals))\n",
    "xentropy_y_vals = - tf.multiply(target, tf.log(x_vals))\n",
    "xentropy_y_out = sess.run(tf.reduce_sum(xentropy_y_vals))\n",
    "print(xentropy_y_out)"
   ]
  },
  {
   "cell_type": "code",
   "execution_count": 24,
   "metadata": {},
   "outputs": [],
   "source": [
    "xentropy_sigmoid_y_vals = tf.nn.sigmoid_cross_entropy_with_logits(logits=x_vals, labels=targets)\n",
    "xentropy_sigmoid_y_out = sess.run(xentropy_sigmoid_y_vals)"
   ]
  },
  {
   "cell_type": "code",
   "execution_count": 25,
   "metadata": {
    "collapsed": true
   },
   "outputs": [],
   "source": [
    "weight = tf.constant(0.5)\n",
    "xentropy_weighted_y_vals = tf.nn.weighted_cross_entropy_with_logits(x_vals, targets, weight)\n",
    "xentropy_weighted_y_out = sess.run(xentropy_weighted_y_vals)"
   ]
  },
  {
   "cell_type": "code",
   "execution_count": 27,
   "metadata": {},
   "outputs": [
    {
     "name": "stdout",
     "output_type": "stream",
     "text": [
      "[1.1601256]\n"
     ]
    }
   ],
   "source": [
    "unscaled_logits = tf.constant([[1.0, -3.0, 10.0]])\n",
    "target_dist = tf.constant([[0.1, 0.02, 0.88]])\n",
    "softmax_xentropy = tf.nn.softmax_cross_entropy_with_logits_v2(logits=unscaled_logits, labels=target_dist)\n",
    "print(sess.run(softmax_xentropy))"
   ]
  },
  {
   "cell_type": "code",
   "execution_count": 38,
   "metadata": {},
   "outputs": [
    {
     "name": "stdout",
     "output_type": "stream",
     "text": [
      "[0.00012564]\n"
     ]
    }
   ],
   "source": [
    "unscaled_logits = tf.constant([[1.0, -3.0, 10.0]])\n",
    "sparse_target_dist = tf.constant([2])\n",
    "sparse_xentropy = tf.nn.sparse_softmax_cross_entropy_with_logits(logits=unscaled_logits, labels=sparse_target_dist)\n",
    "print(sess.run(sparse_xentropy))"
   ]
  },
  {
   "cell_type": "code",
   "execution_count": 43,
   "metadata": {},
   "outputs": [],
   "source": [
    "x_vals = np.random.normal(1, 0.1, 100)\n",
    "y_vals = np.repeat(10.0, 100)\n",
    "x_data = tf.placeholder(shape=[1], dtype=tf.float32)\n",
    "y_target = tf.placeholder(shape=[1], dtype=tf.float32)\n",
    "A = tf.Variable(tf.random_normal(shape=[1]))\n",
    "\n",
    "my_output = tf.multiply(x_data, A)\n",
    "loss = tf.square(my_output - y_target)\n",
    "init = tf.initialize_all_variables()\n",
    "sess.run(init)\n",
    "\n",
    "my_opt = tf.train.GradientDescentOptimizer(learning_rate=0.02)\n",
    "train_step = my_opt.minimize(loss)"
   ]
  },
  {
   "cell_type": "code",
   "execution_count": 44,
   "metadata": {},
   "outputs": [
    {
     "name": "stdout",
     "output_type": "stream",
     "text": [
      "Step #25 A = [5.8754625]\n",
      "Loss = [16.861053]\n",
      "Step #50 A = [8.449252]\n",
      "Loss = [4.9761777]\n",
      "Step #75 A = [9.406326]\n",
      "Loss = [0.37175062]\n",
      "Step #100 A = [9.849413]\n",
      "Loss = [0.01870767]\n"
     ]
    }
   ],
   "source": [
    "for i in range(100):\n",
    "    rand_index = np.random.choice(100)\n",
    "    rand_x = [x_vals[rand_index]]\n",
    "    rand_y = [y_vals[rand_index]]\n",
    "    sess.run(train_step, feed_dict={x_data: rand_x, y_target: rand_y})\n",
    "    if (i + 1) % 25 == 0:\n",
    "        print('Step #' + str(i + 1) + ' A = ' + str(sess.run(A)))\n",
    "        print('Loss = ' + str(sess.run(loss, feed_dict={x_data:rand_x, y_target:rand_y})))"
   ]
  },
  {
   "cell_type": "code",
   "execution_count": 45,
   "metadata": {
    "collapsed": true
   },
   "outputs": [],
   "source": [
    "from tensorflow.python.framework import ops\n",
    "ops.reset_default_graph()\n",
    "sess = tf.Session()"
   ]
  },
  {
   "cell_type": "code",
   "execution_count": 46,
   "metadata": {
    "collapsed": true
   },
   "outputs": [],
   "source": [
    "x_vals = np.concatenate((np.random.normal(-1, 1, 50), np.random.normal(3, 1, 50)))\n",
    "y_vals = np.concatenate((np.repeat(0.0, 50), np.repeat(1.0, 50)))\n",
    "x_data = tf.placeholder(shape=[1], dtype=tf.float32)\n",
    "y_target = tf.placeholder(shape=[1], dtype=tf.float32)\n",
    "A = tf.Variable(tf.random_normal(mean=10, shape=[1]))"
   ]
  },
  {
   "cell_type": "code",
   "execution_count": 47,
   "metadata": {
    "collapsed": true
   },
   "outputs": [],
   "source": [
    "my_out = tf.add(x_data, A)"
   ]
  },
  {
   "cell_type": "code",
   "execution_count": 48,
   "metadata": {
    "collapsed": true
   },
   "outputs": [],
   "source": [
    "my_output_expanded = tf.expand_dims(my_out, 0)\n",
    "y_target_expanded = tf.expand_dims(y_target, 0)"
   ]
  },
  {
   "cell_type": "code",
   "execution_count": 49,
   "metadata": {
    "collapsed": true
   },
   "outputs": [],
   "source": [
    "init = tf.initialize_all_variables()\n",
    "sess.run(init)"
   ]
  },
  {
   "cell_type": "code",
   "execution_count": 50,
   "metadata": {
    "collapsed": true
   },
   "outputs": [],
   "source": [
    "xentropy = tf.nn.sigmoid_cross_entropy_with_logits(logits=my_output_expanded, labels=y_target_expanded)\n",
    "my_opt = tf.train.GradientDescentOptimizer(0.05)\n",
    "train_step = my_opt.minimize(xentropy)"
   ]
  },
  {
   "cell_type": "code",
   "execution_count": 53,
   "metadata": {},
   "outputs": [
    {
     "name": "stdout",
     "output_type": "stream",
     "text": [
      "Step #200 A = [-1.0388795]\n",
      "Loss = [[0.14810355]]\n",
      "Step #400 A = [-1.257227]\n",
      "Loss = [[0.01725669]]\n",
      "Step #600 A = [-1.2030206]\n",
      "Loss = [[0.19346954]]\n",
      "Step #800 A = [-0.9870426]\n",
      "Loss = [[0.2582842]]\n",
      "Step #1000 A = [-1.1258522]\n",
      "Loss = [[0.163909]]\n",
      "Step #1200 A = [-1.0716832]\n",
      "Loss = [[0.13380006]]\n",
      "Step #1400 A = [-0.9748355]\n",
      "Loss = [[0.16134198]]\n"
     ]
    }
   ],
   "source": [
    "for i in range(1400):\n",
    "    rand_index = np.random.choice(100)\n",
    "    rand_x = [x_vals[rand_index]]\n",
    "    rand_y = [y_vals[rand_index]]\n",
    "    sess.run(train_step, feed_dict={x_data: rand_x, y_target:rand_y})\n",
    "    \n",
    "    if (i + 1) % 200 == 0:\n",
    "        print('Step #' + str(i + 1) + ' A = ' + str(sess.run(A)))\n",
    "        print('Loss = ' + str(sess.run(xentropy, feed_dict={x_data: rand_x, y_target: rand_y})))"
   ]
  },
  {
   "cell_type": "code",
   "execution_count": 54,
   "metadata": {
    "collapsed": true
   },
   "outputs": [],
   "source": [
    "batch_size = 20"
   ]
  },
  {
   "cell_type": "code",
   "execution_count": 55,
   "metadata": {
    "collapsed": true
   },
   "outputs": [],
   "source": [
    "x_vals = np.random.normal(1, 0.1, 100)\n",
    "y_vals = np.repeat(10.0, 100)\n",
    "x_data = tf. placeholder(shape=[None, 1], dtype=tf.float32)\n",
    "y_target = tf.placeholder(shape=[None, 1], dtype=tf.float32)\n",
    "A = tf.Variable(tf.random_normal(shape=[1, 1]))\n",
    "my_output = tf.matmul(x_data, A)"
   ]
  },
  {
   "cell_type": "code",
   "execution_count": 58,
   "metadata": {},
   "outputs": [
    {
     "name": "stdout",
     "output_type": "stream",
     "text": [
      " Step #5A = [[1.9509983]]\n",
      "Loss = 65.2769\n",
      " Step #10A = [[3.4512057]]\n",
      "Loss = 43.03061\n",
      " Step #15A = [[4.6584244]]\n",
      "Loss = 28.862925\n",
      " Step #20A = [[5.63731]]\n",
      "Loss = 18.760433\n",
      " Step #25A = [[6.4213586]]\n",
      "Loss = 11.726896\n",
      " Step #30A = [[7.049718]]\n",
      "Loss = 7.7106194\n",
      " Step #35A = [[7.576313]]\n",
      "Loss = 5.760316\n",
      " Step #40A = [[7.9995623]]\n",
      "Loss = 4.117017\n",
      " Step #45A = [[8.354211]]\n",
      "Loss = 3.0095248\n",
      " Step #50A = [[8.638408]]\n",
      "Loss = 2.3310833\n",
      " Step #55A = [[8.854534]]\n",
      "Loss = 0.9764978\n",
      " Step #60A = [[9.031059]]\n",
      "Loss = 2.155053\n",
      " Step #65A = [[9.168867]]\n",
      "Loss = 1.2489034\n",
      " Step #70A = [[9.27137]]\n",
      "Loss = 0.8434998\n",
      " Step #75A = [[9.361815]]\n",
      "Loss = 1.7305057\n",
      " Step #80A = [[9.449306]]\n",
      "Loss = 1.4040096\n",
      " Step #85A = [[9.4939785]]\n",
      "Loss = 1.2148982\n",
      " Step #90A = [[9.534261]]\n",
      "Loss = 1.2853885\n",
      " Step #95A = [[9.576522]]\n",
      "Loss = 0.6500388\n",
      " Step #100A = [[9.604744]]\n",
      "Loss = 0.64303863\n"
     ]
    }
   ],
   "source": [
    "init = tf.initialize_all_variables()\n",
    "sess.run(init)\n",
    "loss = tf.reduce_mean(tf.square(my_output - y_target))\n",
    "my_opt = tf.train.GradientDescentOptimizer(0.02)\n",
    "train_step = my_opt.minimize(loss)\n",
    "loss_batch = []\n",
    "for i in range(100):\n",
    "    rand_index = np.random.choice(100, size=batch_size)\n",
    "    rand_x = np.transpose([x_vals[rand_index]])\n",
    "    rand_y = np.transpose([y_vals[rand_index]])\n",
    "    sess.run(train_step, feed_dict={x_data: rand_x, y_target: rand_y})\n",
    "    if (i + 1) % 5 == 0:\n",
    "        print(' Step #' + str(i + 1) + 'A = ' + str(sess.run(A)))\n",
    "        temp_loss = sess.run(loss, feed_dict={x_data: rand_x, y_target: rand_y})\n",
    "        print('Loss = ' + str(temp_loss))\n",
    "        loss_batch.append(temp_loss)"
   ]
  },
  {
   "cell_type": "code",
   "execution_count": 61,
   "metadata": {},
   "outputs": [
    {
     "name": "stdout",
     "output_type": "stream",
     "text": [
      "Step #5A = [[2.2876282]]\n",
      "Loss = 60.88534\n",
      "Step #10A = [[3.7844908]]\n",
      "Loss = 35.91825\n",
      "Step #15A = [[4.9297967]]\n",
      "Loss = 24.678324\n",
      "Step #20A = [[5.8504624]]\n",
      "Loss = 10.862158\n",
      "Step #25A = [[6.6446557]]\n",
      "Loss = 21.668743\n",
      "Step #30A = [[7.2919474]]\n",
      "Loss = 9.171614\n",
      "Step #35A = [[7.773166]]\n",
      "Loss = 6.8065987\n",
      "Step #40A = [[8.195176]]\n",
      "Loss = 8.188808\n",
      "Step #45A = [[8.599796]]\n",
      "Loss = 5.0000353\n",
      "Step #50A = [[8.87459]]\n",
      "Loss = 3.1121566\n",
      "Step #55A = [[9.060316]]\n",
      "Loss = 0.4129226\n",
      "Step #60A = [[9.254576]]\n",
      "Loss = 1.5459193\n",
      "Step #65A = [[9.501839]]\n",
      "Loss = 2.0635147\n",
      "Step #70A = [[9.539347]]\n",
      "Loss = 0.021860197\n",
      "Step #75A = [[9.7276745]]\n",
      "Loss = 1.9138931\n",
      "Step #80A = [[9.732882]]\n",
      "Loss = 0.046912022\n",
      "Step #85A = [[9.756586]]\n",
      "Loss = 0.10873573\n",
      "Step #90A = [[9.876298]]\n",
      "Loss = 0.39421904\n",
      "Step #95A = [[9.798849]]\n",
      "Loss = 0.016349904\n",
      "Step #100A = [[9.84274]]\n",
      "Loss = 0.74936676\n"
     ]
    }
   ],
   "source": [
    "loss_stochastic = []\n",
    "update=tf.assign(A,tf.random_normal(shape=[1, 1]))\n",
    "sess.run(update)\n",
    "for i in range(100):\n",
    "    rand_index = np.random.choice(100)\n",
    "    rand_x = np.reshape([x_vals[rand_index]], [1, 1])\n",
    "    rand_y = np.reshape([y_vals[rand_index]], [1, 1])\n",
    "    sess.run(train_step, feed_dict={x_data:rand_x, y_target:rand_y})\n",
    "    if (i + 1) % 5 == 0:\n",
    "        print('Step #' + str(i + 1) + 'A = ' + str(sess.run(A)))\n",
    "        temp_loss = sess.run(loss, feed_dict={x_data: rand_x, y_target: rand_y})\n",
    "        print('Loss = ' + str(temp_loss))\n",
    "        loss_stochastic.append(temp_loss)"
   ]
  },
  {
   "cell_type": "code",
   "execution_count": 63,
   "metadata": {},
   "outputs": [
    {
     "data": {
      "image/png": "[encoded data removed]",
      "text/plain": [
       "<Figure size 432x288 with 1 Axes>"
      ]
     },
     "metadata": {},
     "output_type": "display_data"
    }
   ],
   "source": [
    "plt.plot(range(0, 100, 5), loss_stochastic, 'b-', label='Stochastic Loss')\n",
    "plt.plot(range(0, 100, 5), loss_batch, 'r--', label='Batch Loss size=20')\n",
    "plt.legend(loc='upper right', prop={'size': 11})\n",
    "plt.show()"
   ]
  },
  {
   "cell_type": "code",
   "execution_count": 65,
   "metadata": {},
   "outputs": [],
   "source": [
    "from sklearn import datasets\n",
    "iris = datasets.load_iris()\n",
    "binary_target = np.array([1.0 if x == 0 else 0.0 for x in iris.target])\n",
    "iris_2d = np.array([[x[2], x[3]] for x in iris.data])"
   ]
  },
  {
   "cell_type": "code",
   "execution_count": 66,
   "metadata": {
    "collapsed": true
   },
   "outputs": [],
   "source": [
    "batch_size = 20\n",
    "x1_data = tf.placeholder(shape=[None, 1], dtype=tf.float32)\n",
    "x2_data = tf.placeholder(shape=[None, 1], dtype=tf.float32)\n",
    "y_target = tf.placeholder(shape=[None, 1], dtype=tf.float32)\n",
    "A = tf.Variable(tf.random_normal(shape=[1, 1]))\n",
    "b = tf.Variable(tf.random_normal(shape=[1]))"
   ]
  },
  {
   "cell_type": "code",
   "execution_count": 69,
   "metadata": {},
   "outputs": [],
   "source": [
    "my_mult = tf.matmul(x2_data, A)\n",
    "my_add = tf.add(my_mult, b)\n",
    "my_sub = tf.subtract(x1_data, my_add)"
   ]
  },
  {
   "cell_type": "code",
   "execution_count": 71,
   "metadata": {},
   "outputs": [],
   "source": [
    "xentropy = tf.nn.sigmoid_cross_entropy_with_logits(logits=my_sub, labels=y_target)\n",
    "my_opt = tf.train.GradientDescentOptimizer(0.05)\n",
    "train_step = my_opt.minimize(xentropy)"
   ]
  },
  {
   "cell_type": "code",
   "execution_count": 72,
   "metadata": {
    "collapsed": true
   },
   "outputs": [],
   "source": [
    "init = tf.initialize_all_variables()\n",
    "sess.run(init)"
   ]
  },
  {
   "cell_type": "code",
   "execution_count": 73,
   "metadata": {
    "scrolled": true
   },
   "outputs": [
    {
     "name": "stdout",
     "output_type": "stream",
     "text": [
      "Step #200A = [[8.569322]], b = [-3.491264]\n",
      "Step #400A = [[10.153752]], b = [-4.566346]\n",
      "Step #600A = [[11.056842]], b = [-5.3549232]\n",
      "Step #800A = [[11.842841]], b = [-5.8201222]\n",
      "Step #1000A = [[12.341285]], b = [-6.3552322]\n"
     ]
    }
   ],
   "source": [
    "for i in range(1000):\n",
    "    rand_index = np.random.choice(len(iris_2d), size=batch_size)\n",
    "    rand_x = iris_2d[rand_index]\n",
    "    rand_x1 = np.array([[x[0]] for x in rand_x])\n",
    "    rand_x2 = np.array([[x[1]] for x in rand_x])\n",
    "    rand_y = np.array([[y] for y in binary_target[rand_index]])\n",
    "    sess.run(train_step, feed_dict={x1_data:rand_x1, x2_data:rand_x2, y_target:rand_y})\n",
    "    if (i + 1) % 200 == 0:\n",
    "        print('Step #' + str(i + 1) + 'A = ' + str(sess.run(A)) + ', b = ' + str(sess.run(b)))"
   ]
  },
  {
   "cell_type": "code",
   "execution_count": 76,
   "metadata": {
    "scrolled": true
   },
   "outputs": [
    {
     "data": {
      "image/png": "[encoded data removed]",
      "text/plain": [
       "<Figure size 432x288 with 1 Axes>"
      ]
     },
     "metadata": {},
     "output_type": "display_data"
    }
   ],
   "source": [
    "[[slope]] = sess.run(A)\n",
    "[intercept] = sess.run(b)\n",
    "x = np.linspace(0, 3, num=50)\n",
    "abline_values = []\n",
    "for i in x:\n",
    "    abline_values.append(slope * i + intercept)\n",
    "setosa_x = [a[1] for i, a in enumerate(iris_2d) if binary_target[i] == 1]\n",
    "setosa_y = [a[0] for i, a in enumerate(iris_2d) if binary_target[i] == 1]\n",
    "non_setosa_x = [a[1] for i, a in enumerate(iris_2d) if binary_target[i] == 0]\n",
    "non_setosa_y = [a[0] for i, a in enumerate(iris_2d) if binary_target[i] == 0]\n",
    "plt.plot(setosa_x, setosa_y, 'rx', ms=10, mew=2, label='setosa')\n",
    "plt.plot(non_setosa_x, non_setosa_y, 'ro', label='Non-setosa')\n",
    "plt.plot(x, abline_values, 'b-')\n",
    "plt.xlim([0.0, 2.7])\n",
    "plt.ylim([0.0, 7.1])\n",
    "plt.suptitle('Linear Separator foI.setosa', fontsize=20)\n",
    "plt.xlabel('Petal Length')\n",
    "plt.ylabel('Petal Width')\n",
    "plt.legend(loc='lower right')\n",
    "plt.show()"
   ]
  },
  {
   "cell_type": "code",
   "execution_count": 77,
   "metadata": {
    "collapsed": true
   },
   "outputs": [],
   "source": [
    "x_vals = np.random.normal(1, 0.1, 100)\n",
    "y_vals = np.repeat(10.0, 100)\n",
    "x_data = tf.placeholder(shape=[None, 1], dtype=tf.float32)\n",
    "y_target = tf.placeholder(shape=[None, 1], dtype=tf.float32)\n",
    "batch_size = 25\n",
    "train_indices = np.random.choice(len(x_vals), round(len(x_vals) * 0.8), replace=False)\n",
    "test_indices = np.array(list(set(range(len(x_vals))) - set(train_indices)))\n",
    "x_vals_train = x_vals[train_indices]\n",
    "x_vals_test = x_vals[test_indices]\n",
    "y_vals_train = y_vals[train_indices]\n",
    "y_vals_test = y_vals[test_indices]\n",
    "A = tf.Variable(tf.random_normal(shape=[1, 1]))"
   ]
  },
  {
   "cell_type": "code",
   "execution_count": 78,
   "metadata": {
    "collapsed": true
   },
   "outputs": [],
   "source": [
    "my_output = tf.matmul(x_data, A)\n",
    "loss = tf.reduce_mean(tf.square(my_output - y_target))\n",
    "init = tf.initialize_all_variables()\n",
    "sess.run(init)\n",
    "my_opt = tf.train.GradientDescentOptimizer(0.02)\n",
    "train_step = my_opt.minimize(loss)"
   ]
  },
  {
   "cell_type": "code",
   "execution_count": 79,
   "metadata": {},
   "outputs": [
    {
     "name": "stdout",
     "output_type": "stream",
     "text": [
      "Step #25 A = [[6.30002]]\n",
      "Loss = 13.676422\n",
      "Step #50 A = [[8.611217]]\n",
      "Loss = 3.3671424\n",
      "Step #75 A = [[9.39735]]\n",
      "Loss = 1.4102405\n",
      "Step #100 A = [[9.688823]]\n",
      "Loss = 1.3997464\n"
     ]
    }
   ],
   "source": [
    "for i in range(100):\n",
    "    rand_index = np.random.choice(len(x_vals_train), size=batch_size)\n",
    "    rand_x = np.transpose([x_vals_train[rand_index]])\n",
    "    rand_y = np.transpose([y_vals_train[rand_index]])\n",
    "    sess.run(train_step, feed_dict={x_data: rand_x, y_target: rand_y})\n",
    "    if (i + 1) % 25 == 0:\n",
    "        print('Step #' + str(i + 1) + ' A = ' + str(sess.run(A)))\n",
    "        print('Loss = ' + str(sess.run(loss, feed_dict={x_data: rand_x, y_target: rand_y})))"
   ]
  },
  {
   "cell_type": "code",
   "execution_count": 80,
   "metadata": {},
   "outputs": [
    {
     "name": "stdout",
     "output_type": "stream",
     "text": [
      "MSE on test:0.92\n",
      "MSE on train:1.09\n"
     ]
    }
   ],
   "source": [
    "mse_test = sess.run(loss, feed_dict={x_data: np.transpose([x_vals_test]), y_target: np.transpose([y_vals_test])})\n",
    "mse_train = sess.run(loss, feed_dict={x_data: np.transpose([x_vals_train]), y_target: np.transpose([y_vals_train])})\n",
    "print('MSE on test:' + str(np.round(mse_test, 2)))\n",
    "print('MSE on train:' + str(np.round(mse_train, 2)))"
   ]
  },
  {
   "cell_type": "code",
   "execution_count": 81,
   "metadata": {
    "collapsed": true
   },
   "outputs": [],
   "source": [
    "ops.reset_default_graph()\n",
    "sess = tf.Session()\n",
    "batch_size = 25\n",
    "x_vals = np.concatenate((np.random.normal(-1, 1, 50), np.random.normal(2, 1, 50)))\n",
    "y_vals = np.concatenate((np.repeat(0.0, 50), np.repeat(1.0, 50)))\n",
    "x_data = tf.placeholder(shape=[1, None], dtype=tf.float32)\n",
    "y_target = tf.placeholder(shape=[1, None], dtype=tf.float32)\n",
    "\n",
    "train_indices = np.random.choice(len(x_vals), round(len(x_vals) * 0.8), replace=False)\n",
    "test_indices = np.array(list(set(range(len(x_vals))) - set(train_indices)))\n",
    "x_vals_train = x_vals[train_indices]\n",
    "x_vals_test = x_vals[test_indices]\n",
    "y_vals_train = y_vals[train_indices]\n",
    "y_vals_test = y_vals[test_indices]\n",
    "A = tf.Variable(tf.random_normal(shape=[1, 1]))"
   ]
  },
  {
   "cell_type": "code",
   "execution_count": 82,
   "metadata": {
    "collapsed": true
   },
   "outputs": [],
   "source": [
    "my_output = tf.add(x_data, A)\n",
    "init = tf.initialize_all_variables()\n",
    "sess.run(init)\n",
    "xentropy = tf.reduce_mean(tf.nn.sigmoid_cross_entropy_with_logits(logits=my_output, labels=y_target))\n",
    "my_opt = tf.train.GradientDescentOptimizer(0.05)\n",
    "train_step = my_opt.minimize(xentropy)"
   ]
  },
  {
   "cell_type": "code",
   "execution_count": 83,
   "metadata": {},
   "outputs": [
    {
     "name": "stdout",
     "output_type": "stream",
     "text": [
      "Step #200 A = [[-0.29843095]]\n",
      "Loss = 0.32969725\n",
      "Step #400 A = [[-0.4420942]]\n",
      "Loss = 0.30725735\n",
      "Step #600 A = [[-0.5055693]]\n",
      "Loss = 0.28091228\n",
      "Step #800 A = [[-0.5346466]]\n",
      "Loss = 0.26987\n",
      "Step #1000 A = [[-0.5076364]]\n",
      "Loss = 0.33925763\n",
      "Step #1200 A = [[-0.47824827]]\n",
      "Loss = 0.3313393\n",
      "Step #1400 A = [[-0.46708158]]\n",
      "Loss = 0.24173962\n",
      "Step #1600 A = [[-0.48292014]]\n",
      "Loss = 0.28082246\n",
      "Step #1800 A = [[-0.50995076]]\n",
      "Loss = 0.25418517\n"
     ]
    }
   ],
   "source": [
    "for i in range(1800):\n",
    "    rand_index = np.random.choice(len(x_vals_train), size=batch_size)\n",
    "    rand_x = [x_vals_train[rand_index]]\n",
    "    rand_y = [y_vals_train[rand_index]]\n",
    "    sess.run(train_step, feed_dict={x_data: rand_x, y_target:rand_y})\n",
    "    if (i + 1) % 200 == 0:\n",
    "        print('Step #' + str(i + 1) + ' A = ' + str(sess.run(A)))\n",
    "        print('Loss = ' + str(sess.run(xentropy, feed_dict={x_data: rand_x, y_target: rand_y})))"
   ]
  },
  {
   "cell_type": "code",
   "execution_count": 87,
   "metadata": {},
   "outputs": [
    {
     "name": "stdout",
     "output_type": "stream",
     "text": [
      "Accuracy on train set: 0.9625\n",
      "Accuracy on test set: 0.95\n"
     ]
    }
   ],
   "source": [
    "y_prediction = tf.squeeze(tf.round(tf.nn.sigmoid(tf.add(x_data, A))))\n",
    "correction_prediction = tf.equal(y_prediction, y_target)\n",
    "accuracy = tf.reduce_mean(tf.cast(correction_prediction, tf.float32))\n",
    "acc_value_test = sess.run(accuracy, feed_dict={x_data: [x_vals_test], y_target: [y_vals_test]})\n",
    "acc_value_train = sess.run(accuracy, feed_dict={x_data: [x_vals_train], y_target: [y_vals_train]})\n",
    "print('Accuracy on train set: ' + str(acc_value_train))\n",
    "print('Accuracy on test set: ' + str(acc_value_test))"
   ]
  },
  {
   "cell_type": "code",
   "execution_count": 94,
   "metadata": {},
   "outputs": [
    {
     "data": {
      "image/png": "[encoded data removed]",
      "text/plain": [
       "<Figure size 432x288 with 1 Axes>"
      ]
     },
     "metadata": {},
     "output_type": "display_data"
    }
   ],
   "source": [
    "A_result = sess.run(A)\n",
    "bins = np.linspace(-5, 5, 50)\n",
    "plt.close()\n",
    "plt.hist(x_vals[0: 50], bins, alpha=0.5, label='N.(-1, 1)', color='blue')\n",
    "plt.hist(x_vals[50: 100], bins[0: 50], alpha=0.5, label='N.(2, 1)', color='red')\n",
    "plt.plot((A_result[0][0], A_result[0][0]), (0, 8), 'k--', linewidth=3, label='A = ' + str(np.round(A_result, 2)))\n",
    "plt.legend(loc='upper right')\n",
    "plt.title('Binary Classifier, Accuracy=' + str(np.round(acc_value_train, 2)))\n",
    "plt.show()"
   ]
  },
  {
   "cell_type": "code",
   "execution_count": null,
   "metadata": {
    "collapsed": true
   },
   "outputs": [],
   "source": []
  }
 ],
 "metadata": {
  "kernelspec": {
   "display_name": "Python 3",
   "language": "python",
   "name": "python3"
  },
  "language_info": {
   "codemirror_mode": {
    "name": "ipython",
    "version": 3
   },
   "file_extension": ".py",
   "mimetype": "text/x-python",
   "name": "python",
   "nbconvert_exporter": "python",
   "pygments_lexer": "ipython3",
   "version": "3.6.3"
  }
 },
 "nbformat": 4,
 "nbformat_minor": 2
}
