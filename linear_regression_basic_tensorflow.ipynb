{
 "cells": [
  {
   "cell_type": "code",
   "execution_count": 1,
   "metadata": {
    "collapsed": true
   },
   "outputs": [],
   "source": [
    "import matplotlib.pyplot as plt\n",
    "import numpy as np\n",
    "import tensorflow as tf\n",
    "sess = tf.Session()\n",
    "x_vals = np.linspace(0, 10, 100)\n",
    "y_vals = x_vals + np.random.normal(0, 1, 100)"
   ]
  },
  {
   "cell_type": "code",
   "execution_count": 2,
   "metadata": {
    "collapsed": true
   },
   "outputs": [],
   "source": [
    "x_vals_column = np.transpose(np.matrix(x_vals))\n",
    "ones_column = np.transpose(np.matrix(np.repeat(1, 100)))\n",
    "A = np.column_stack((x_vals_column, ones_column))\n",
    "b = np.transpose(np.matrix(y_vals))"
   ]
  },
  {
   "cell_type": "code",
   "execution_count": 3,
   "metadata": {
    "collapsed": true
   },
   "outputs": [],
   "source": [
    "A_tensor = tf.constant(A)\n",
    "b_tensor = tf.constant(b)"
   ]
  },
  {
   "cell_type": "code",
   "execution_count": 4,
   "metadata": {
    "collapsed": true
   },
   "outputs": [],
   "source": [
    "tA_A = tf.matmul(tf.transpose(A_tensor), A_tensor)\n",
    "tA_A_inv = tf.matrix_inverse(tA_A)\n",
    "product = tf.matmul(tA_A_inv, tf.transpose(A_tensor))\n",
    "solution = tf.matmul(product, b_tensor)\n",
    "solution_eval = sess.run(solution)"
   ]
  },
  {
   "cell_type": "code",
   "execution_count": 5,
   "metadata": {},
   "outputs": [
    {
     "name": "stdout",
     "output_type": "stream",
     "text": [
      "slope: 0.9905609633363899\n",
      "y_intercept: 0.043145599930154016\n"
     ]
    }
   ],
   "source": [
    "slope = solution_eval[0][0]\n",
    "y_intercept = solution_eval[1][0]\n",
    "print('slope: ' + str(slope))\n",
    "print('y_intercept: ' + str(y_intercept))"
   ]
  },
  {
   "cell_type": "code",
   "execution_count": 6,
   "metadata": {},
   "outputs": [
    {
     "data": {
      "image/png": "[encoded data removed]",
      "text/plain": [
       "<Figure size 432x288 with 1 Axes>"
      ]
     },
     "metadata": {
      "needs_background": "light"
     },
     "output_type": "display_data"
    }
   ],
   "source": [
    "best_fit = []\n",
    "for i in x_vals:\n",
    "    best_fit.append(slope * i + y_intercept)\n",
    "plt.plot(x_vals, y_vals, 'o', label='Data')\n",
    "plt.plot(x_vals, best_fit, 'r-', label='Best fit line', linewidth=3)\n",
    "plt.legend(loc='upper left')\n",
    "plt.show()"
   ]
  },
  {
   "cell_type": "code",
   "execution_count": 7,
   "metadata": {},
   "outputs": [
    {
     "name": "stdout",
     "output_type": "stream",
     "text": [
      "[[0.99056096]\n",
      " [0.0431456 ]]\n"
     ]
    }
   ],
   "source": [
    "print(solution_eval)"
   ]
  },
  {
   "cell_type": "code",
   "execution_count": 3,
   "metadata": {
    "collapsed": true
   },
   "outputs": [],
   "source": [
    "from tensorflow.python.framework import ops\n",
    "ops.reset_default_graph()\n",
    "sess = tf.Session()\n",
    "x_vals = np.linspace(0, 10, 100)\n",
    "y_vals = x_vals + np.random.normal(0, 1, 100)\n",
    "x_vals_column = np.transpose(np.matrix(x_vals))\n",
    "ones_column = np.transpose(np.matrix(np.repeat(1, 100)))\n",
    "A = np.column_stack((x_vals_column, ones_column))\n",
    "b = np.transpose(np.matrix(y_vals))\n",
    "A_tensor = tf.constant(A)\n",
    "b_tensor = tf.constant(b)"
   ]
  },
  {
   "cell_type": "code",
   "execution_count": 4,
   "metadata": {
    "collapsed": true
   },
   "outputs": [],
   "source": [
    "tA_A = tf.matmul(tf.transpose(A_tensor), A_tensor)\n",
    "L = tf.cholesky(tA_A)\n",
    "tA_b = tf.matmul(tf.transpose(A_tensor), b)\n",
    "sol1 = tf.matrix_solve(L, tA_b)\n",
    "sol2 = tf.matrix_solve(tf.transpose(L), sol1)"
   ]
  },
  {
   "cell_type": "code",
   "execution_count": 5,
   "metadata": {},
   "outputs": [
    {
     "name": "stdout",
     "output_type": "stream",
     "text": [
      "slope: 0.9935450566335895\n",
      "y_intercept: 0.04268881974349107\n"
     ]
    }
   ],
   "source": [
    "solution_eval = sess.run(sol2)\n",
    "slope = solution_eval[0][0]\n",
    "y_intercept = solution_eval[1][0]\n",
    "print('slope: ' + str(slope))\n",
    "print('y_intercept: ' + str(y_intercept))\n"
   ]
  },
  {
   "cell_type": "code",
   "execution_count": 6,
   "metadata": {},
   "outputs": [
    {
     "data": {
      "image/png": "[encoded data removed]",
      "text/plain": [
       "<Figure size 432x288 with 1 Axes>"
      ]
     },
     "metadata": {},
     "output_type": "display_data"
    }
   ],
   "source": [
    "best_fit = []\n",
    "for i in x_vals:\n",
    "    best_fit.append(slope*i+y_intercept)\n",
    "plt.plot(x_vals, y_vals, 'o', label='Data')\n",
    "plt.plot(x_vals, best_fit, 'r-', label='Best fit line', linewidth=3)\n",
    "plt.legend(loc='upper left')\n",
    "plt.show()"
   ]
  },
  {
   "cell_type": "code",
   "execution_count": 2,
   "metadata": {
    "collapsed": true
   },
   "outputs": [],
   "source": [
    "from sklearn import datasets\n",
    "from tensorflow.python.framework import ops\n",
    "ops.reset_default_graph()\n",
    "sess = tf.Session()\n",
    "iris = datasets.load_iris()\n",
    "x_vals = np.array([x[3] for x in iris.data])\n",
    "y_vals = np.array([y[0] for y in iris.data])\n"
   ]
  },
  {
   "cell_type": "code",
   "execution_count": 4,
   "metadata": {},
   "outputs": [
    {
     "name": "stdout",
     "output_type": "stream",
     "text": [
      "[0.2 0.2 0.2 0.2 0.2 0.4 0.3 0.2 0.2 0.1]\n",
      "[5.1 4.9 4.7 4.6 5.  5.4 4.6 5.  4.4 4.9]\n"
     ]
    }
   ],
   "source": [
    "print(x_vals[0: 10])\n",
    "print(y_vals[0: 10])"
   ]
  },
  {
   "cell_type": "code",
   "execution_count": 5,
   "metadata": {
    "collapsed": true
   },
   "outputs": [],
   "source": [
    "learning_rate = 0.05\n",
    "batch_size = 25\n",
    "x_data = tf.placeholder(shape=[None, 1], dtype=tf.float32)\n",
    "y_target = tf.placeholder(shape=[None, 1], dtype=tf.float32)\n",
    "A = tf.Variable(tf.random_normal(shape=[1, 1]))\n",
    "b = tf.Variable(tf.random_normal(shape=[1, 1]))"
   ]
  },
  {
   "cell_type": "code",
   "execution_count": 6,
   "metadata": {
    "collapsed": true
   },
   "outputs": [],
   "source": [
    "model_output = tf.add(tf.matmul(x_data, A), b)"
   ]
  },
  {
   "cell_type": "code",
   "execution_count": 7,
   "metadata": {
    "collapsed": true
   },
   "outputs": [],
   "source": [
    "loss = tf.reduce_mean(tf.square(y_target - model_output))\n",
    "init = tf.global_variables_initializer()\n",
    "sess.run(init)\n",
    "my_opt = tf.train.GradientDescentOptimizer(learning_rate)\n",
    "train_step = my_opt.minimize(loss)"
   ]
  },
  {
   "cell_type": "code",
   "execution_count": 13,
   "metadata": {},
   "outputs": [
    {
     "name": "stdout",
     "output_type": "stream",
     "text": [
      "[ 78  71 140  16  94  96  22  86 132  33 149  59  12  47  77  93  22  96\n",
      " 130   0  46  99  81  88 135]\n",
      "(1, 25)\n"
     ]
    }
   ],
   "source": [
    "rand_index = np.random.choice(len(x_vals), size=batch_size)\n",
    "print(rand_index)\n",
    "rand_x = np.array([x_vals[rand_index]])\n",
    "print(rand_x.shape)"
   ]
  },
  {
   "cell_type": "code",
   "execution_count": 14,
   "metadata": {},
   "outputs": [
    {
     "name": "stdout",
     "output_type": "stream",
     "text": [
      "Step #25A = [[2.0114026]]b = [[3.2038286]]\n",
      "Loss = 1.1583437\n",
      "Step #50A = [[1.5254254]]b = [[3.8419037]]\n",
      "Loss = 0.6201182\n",
      "Step #75A = [[1.2692621]]b = [[4.1785965]]\n",
      "Loss = 0.3047068\n",
      "Step #100A = [[1.1377438]]b = [[4.417402]]\n",
      "Loss = 0.24771637\n"
     ]
    }
   ],
   "source": [
    "loss_vec = []\n",
    "for i in range(100):\n",
    "    rand_index = np.random.choice(len(x_vals), size=batch_size)\n",
    "    rand_x = np.transpose([x_vals[rand_index]])\n",
    "    rand_y = np.transpose([y_vals[rand_index]])\n",
    "    sess.run(train_step, feed_dict={x_data: rand_x, y_target: rand_y})\n",
    "    temp_loss = sess.run(loss, feed_dict={x_data: rand_x, y_target:rand_y})\n",
    "    loss_vec.append(temp_loss)\n",
    "    if (i + 1) % 25 == 0:\n",
    "        print('Step #' + str(i + 1) + 'A = ' + str(sess.run(A)) + 'b = ' + str(sess.run(b)))\n",
    "        print('Loss = ' + str(temp_loss))"
   ]
  },
  {
   "cell_type": "code",
   "execution_count": 15,
   "metadata": {
    "collapsed": true
   },
   "outputs": [],
   "source": [
    "[slope] = sess.run(A)\n",
    "[y_intercept] = sess.run(b)\n",
    "best_fit = []\n",
    "for i in x_vals:\n",
    "    best_fit.append(slope * i + y_intercept)"
   ]
  },
  {
   "cell_type": "code",
   "execution_count": 16,
   "metadata": {},
   "outputs": [
    {
     "data": {
      "image/png": "[encoded data removed]",
      "text/plain": [
       "<Figure size 432x288 with 1 Axes>"
      ]
     },
     "metadata": {
      "needs_background": "light"
     },
     "output_type": "display_data"
    },
    {
     "data": {
      "image/png": "[encoded data removed]",
      "text/plain": [
       "<Figure size 432x288 with 1 Axes>"
      ]
     },
     "metadata": {
      "needs_background": "light"
     },
     "output_type": "display_data"
    }
   ],
   "source": [
    "plt.plot(x_vals, y_vals, 'o', label='Data Point')\n",
    "plt.plot(x_vals, best_fit, 'r-', label='Best fit line', linewidth=3)\n",
    "plt.legend(loc='upper left')\n",
    "plt.title('Sepal Length vs Pedal Width')\n",
    "plt.xlabel('Pedal Width')\n",
    "plt.ylabel('Sepal Length')\n",
    "plt.show()\n",
    "plt.plot(loss_vec, 'k-')\n",
    "plt.title('L2 Loss per Generation')\n",
    "plt.xlabel('Generation')\n",
    "plt.ylabel('L2 Loss')\n",
    "plt.show()"
   ]
  },
  {
   "cell_type": "code",
   "execution_count": 20,
   "metadata": {},
   "outputs": [
    {
     "name": "stdout",
     "output_type": "stream",
     "text": [
      "(100,)\n"
     ]
    }
   ],
   "source": [
    "print(np.array(loss_vec).shape)"
   ]
  },
  {
   "cell_type": "code",
   "execution_count": 31,
   "metadata": {
    "collapsed": true
   },
   "outputs": [],
   "source": [
    "ops.reset_default_graph()\n",
    "sess = tf.Session()\n",
    "iris = datasets.load_iris()\n",
    "x_vals = np.array([x[3] for x in iris.data])\n",
    "y_vals = np.array([y[0] for y in iris.data])\n",
    "batch_size = 25\n",
    "learning_rate = 0.1\n",
    "iterations = 100\n",
    "x_data = tf.placeholder(shape=[None, 1], dtype=tf.float32)\n",
    "y_target = tf.placeholder(shape=[None, 1], dtype=tf.float32)\n",
    "A_l1 = tf.Variable(tf.random_normal(shape=[1, 1]))\n",
    "b_l1 = tf.Variable(tf.random_normal(shape=[1, 1]))\n",
    "model_output = tf.add(tf.matmul(x_data, A_l1), b_l1)"
   ]
  },
  {
   "cell_type": "code",
   "execution_count": 32,
   "metadata": {
    "collapsed": true
   },
   "outputs": [],
   "source": [
    "loss_l1 = tf.reduce_mean(tf.abs(y_target - model_output))"
   ]
  },
  {
   "cell_type": "code",
   "execution_count": 33,
   "metadata": {},
   "outputs": [
    {
     "name": "stdout",
     "output_type": "stream",
     "text": [
      "Step #25_l1A = [[1.9641539]]b_l1 = [[2.5876694]]\n",
      "Step #50_l1A = [[1.7409536]]b_l1 = [[3.3516695]]\n",
      "Step #75_l1A = [[1.4369537]]b_l1 = [[4.05167]]\n",
      "Step #100_l1A = [[1.0857537]]b_l1 = [[4.5436687]]\n"
     ]
    }
   ],
   "source": [
    "init = tf.global_variables_initializer()\n",
    "sess.run(init)\n",
    "my_opt_l1 = tf.train.GradientDescentOptimizer(learning_rate)\n",
    "train_step_l1 = my_opt_l1.minimize(loss_l1)\n",
    "loss_vec_l1 = []\n",
    "for i in range(iterations):\n",
    "    rand_index = np.random.choice(len(x_vals), size=batch_size)\n",
    "    rand_x = np.transpose([x_vals[rand_index]])\n",
    "    rand_y = np.transpose([y_vals[rand_index]])\n",
    "    sess.run(train_step_l1, feed_dict={x_data: rand_x, y_target: rand_y})\n",
    "    temp_loss_l1 = sess.run(loss_l1, feed_dict={x_data: rand_x, y_target: rand_y})\n",
    "    loss_vec_l1.append(temp_loss_l1)\n",
    "    if (i + 1) % 25 == 0:\n",
    "        print('Step #' + str(i + 1) + '_l1A = ' + str(sess.run(A_l1)) + 'b_l1 = ' + str(sess.run(b_l1)))"
   ]
  },
  {
   "cell_type": "code",
   "execution_count": 34,
   "metadata": {},
   "outputs": [
    {
     "data": {
      "image/png": "[encoded data removed]",
      "text/plain": [
       "<Figure size 432x288 with 1 Axes>"
      ]
     },
     "metadata": {
      "needs_background": "light"
     },
     "output_type": "display_data"
    }
   ],
   "source": [
    "plt.plot(loss_vec_l1, 'k-', label='L1 Loss')\n",
    "plt.plot(loss_vec, 'r--', label = 'L2 Loss')\n",
    "plt.title('L1 and L2 Loss per Genaration')\n",
    "plt.xlabel('Generation')\n",
    "plt.ylabel('L1 Loss')\n",
    "plt.legend(loc='upper right')\n",
    "plt.show()"
   ]
  },
  {
   "cell_type": "code",
   "execution_count": 1,
   "metadata": {
    "collapsed": true
   },
   "outputs": [],
   "source": [
    "import matplotlib.pyplot as plt\n",
    "import numpy as np\n",
    "import tensorflow as tf\n",
    "from sklearn import datasets\n",
    "sess = tf.Session()\n",
    "iris = datasets.load_iris()\n",
    "x_vals = np.array([x[3] for x in iris.data])\n",
    "y_vals = np.array([y[0] for y in iris.data])\n",
    "batch_size = 50\n",
    "x_data = tf.placeholder(shape=[None, 1], dtype=tf.float32)\n",
    "y_target = tf.placeholder(shape=[None, 1], dtype=tf.float32)\n",
    "A = tf.Variable(tf.random_normal(shape=[1, 1]))\n",
    "b = tf.Variable(tf.random_normal(shape=[1, 1]))\n",
    "model_output = tf.add(tf.matmul(x_data, A), b)"
   ]
  },
  {
   "cell_type": "code",
   "execution_count": 3,
   "metadata": {
    "collapsed": true
   },
   "outputs": [],
   "source": [
    "demming_numerator = tf.abs(tf.subtract(y_target, tf.add(tf.matmul(x_data, A), b)))\n",
    "demming_denominator = tf.sqrt(tf.add(tf.square(A), 1))\n",
    "loss = tf.reduce_mean(tf.truediv(demming_numerator, demming_denominator))"
   ]
  },
  {
   "cell_type": "code",
   "execution_count": 8,
   "metadata": {},
   "outputs": [
    {
     "name": "stdout",
     "output_type": "stream",
     "text": [
      "Step #50A = [[3.0244157]]b = [[1.7056297]]\n",
      "Loss = 0.44849527\n",
      "Step #100A = [[2.9983892]]b = [[1.8889422]]\n",
      "Loss = 0.3452543\n",
      "Step #150A = [[2.8855863]]b = [[2.0397954]]\n",
      "Loss = 0.46896842\n",
      "Step #200A = [[2.7488842]]b = [[2.1714773]]\n",
      "Loss = 0.45457\n",
      "Step #250A = [[2.6770108]]b = [[2.3513246]]\n",
      "Loss = 0.43704125\n",
      "Step #300A = [[2.5537338]]b = [[2.5055532]]\n",
      "Loss = 0.41932765\n",
      "Step #350A = [[2.4433928]]b = [[2.6804342]]\n",
      "Loss = 0.4665715\n",
      "Step #400A = [[2.3215008]]b = [[2.8811972]]\n",
      "Loss = 0.4674586\n",
      "Step #450A = [[2.1629605]]b = [[3.093818]]\n",
      "Loss = 0.45938903\n",
      "Step #500A = [[1.9573622]]b = [[3.310695]]\n",
      "Loss = 0.38988793\n",
      "Step #550A = [[1.8246076]]b = [[3.5856318]]\n",
      "Loss = 0.37244043\n",
      "Step #600A = [[1.5688436]]b = [[3.8522093]]\n",
      "Loss = 0.29506445\n",
      "Step #650A = [[1.348313]]b = [[4.1684947]]\n",
      "Loss = 0.3033032\n",
      "Step #700A = [[1.1863885]]b = [[4.4207926]]\n",
      "Loss = 0.25606388\n",
      "Step #750A = [[1.0922946]]b = [[4.575093]]\n",
      "Loss = 0.25830817\n",
      "Step #800A = [[0.9967298]]b = [[4.599818]]\n",
      "Loss = 0.2703046\n",
      "Step #850A = [[1.0072243]]b = [[4.5988226]]\n",
      "Loss = 0.25901058\n",
      "Step #900A = [[1.0169683]]b = [[4.6006727]]\n",
      "Loss = 0.2291389\n",
      "Step #950A = [[1.0358671]]b = [[4.5907335]]\n",
      "Loss = 0.2859851\n",
      "Step #1000A = [[1.0276619]]b = [[4.6096516]]\n",
      "Loss = 0.2909359\n"
     ]
    }
   ],
   "source": [
    "init = tf.global_variables_initializer()\n",
    "sess.run(init)\n",
    "my_opt = tf.train.GradientDescentOptimizer(0.1)\n",
    "train_step = my_opt.minimize(loss)\n",
    "loss_vec = []\n",
    "for i in range(1000):\n",
    "    rand_index = np.random.choice(len(x_vals), size=batch_size)\n",
    "    rand_x = np.transpose([x_vals[rand_index]])\n",
    "    rand_y = np.transpose([y_vals[rand_index]])\n",
    "    sess.run(train_step, feed_dict={x_data: rand_x, y_target: rand_y})\n",
    "    temp_loss = sess.run(loss, feed_dict={x_data: rand_x, y_target:rand_y})\n",
    "    loss_vec.append(temp_loss)\n",
    "    if (i + 1) % 50 == 0:\n",
    "        print('Step #' + str(i + 1) + 'A = ' + str(sess.run(A)) + 'b = ' + str(sess.run(b)))\n",
    "        print('Loss = ' + str(temp_loss))"
   ]
  },
  {
   "cell_type": "code",
   "execution_count": 9,
   "metadata": {},
   "outputs": [
    {
     "data": {
      "image/png": "[encoded data removed]",
      "text/plain": [
       "<Figure size 432x288 with 1 Axes>"
      ]
     },
     "metadata": {
      "needs_background": "light"
     },
     "output_type": "display_data"
    }
   ],
   "source": [
    "[slope] = sess.run(A)\n",
    "[y_intercept] = sess.run(b)\n",
    "best_fit = []\n",
    "for i in x_vals:\n",
    "    best_fit.append(slope * i + y_intercept)\n",
    "plt.plot(x_vals, y_vals, 'o', label='Data Points')\n",
    "plt.plot(x_vals, best_fit, 'r-', label='Best fit line', linewidth=3)\n",
    "plt.legend(loc='upper left')\n",
    "plt.title('Sepal Length vs Pedal Width')\n",
    "plt.xlabel('Pedal Width')\n",
    "plt.ylabel('Sepal Length')\n",
    "plt.show()"
   ]
  },
  {
   "cell_type": "code",
   "execution_count": 1,
   "metadata": {},
   "outputs": [
    {
     "name": "stderr",
     "output_type": "stream",
     "text": [
      "D:\\anaconda3\\lib\\site-packages\\h5py\\__init__.py:36: FutureWarning: Conversion of the second argument of issubdtype from `float` to `np.floating` is deprecated. In future, it will be treated as `np.float64 == np.dtype(float).type`.\n",
      "  from ._conv import register_converters as _register_converters\n"
     ]
    },
    {
     "name": "stdout",
     "output_type": "stream",
     "text": [
      "WARNING:tensorflow:From D:\\anaconda3\\lib\\site-packages\\tensorflow\\python\\framework\\op_def_library.py:263: colocate_with (from tensorflow.python.framework.ops) is deprecated and will be removed in a future version.\n",
      "Instructions for updating:\n",
      "Colocations handled automatically by placer.\n"
     ]
    }
   ],
   "source": [
    "import matplotlib.pyplot as plt\n",
    "import numpy as np\n",
    "import tensorflow as tf\n",
    "from sklearn import datasets\n",
    "from tensorflow.python.framework import ops\n",
    "ops.reset_default_graph()\n",
    "sess = tf.Session()\n",
    "iris = datasets.load_iris()\n",
    "x_vals = np.array([x[3] for x in iris.data])\n",
    "y_vals = np.array([y[0] for y in iris.data])\n",
    "batch_size = 50\n",
    "learning_rate = 0.001\n",
    "x_data = tf.placeholder(shape=[None, 1], dtype=tf.float32)\n",
    "y_target = tf.placeholder(shape=[None, 1], dtype=tf.float32)\n",
    "A = tf.Variable(tf.random_normal(shape=[1, 1]))\n",
    "b = tf.Variable(tf.random_normal(shape=[1, 1]))\n",
    "model_output = tf.add(tf.matmul(x_data, A), b)"
   ]
  },
  {
   "cell_type": "code",
   "execution_count": 2,
   "metadata": {
    "collapsed": true
   },
   "outputs": [],
   "source": [
    "lasso_param = tf.constant(0.9)\n",
    "heavyside_step = tf.truediv(1.0, tf.add(1.0, tf.exp(tf.multiply(-100.0, tf.subtract(A, lasso_param)))))\n",
    "regularization_param = tf.multiply(heavyside_step, 99.0)\n",
    "loss = tf.add(tf.reduce_mean(tf.square(y_target - model_output)), regularization_param)\n",
    "# ridge_param = tf.constant(1.0)\n",
    "# ridge_loss = tf.reduce_mean(tf.square(A))\n",
    "# loss = tf.expand_dims(tf.add(tf.reduce_mean(tf.square(y_target - model_output)), tf.multiply(ridge_param, ridge_loss)), 0)"
   ]
  },
  {
   "cell_type": "code",
   "execution_count": 3,
   "metadata": {
    "collapsed": true
   },
   "outputs": [],
   "source": [
    "init = tf.global_variables_initializer()\n",
    "sess.run(init)\n",
    "my_opt = tf.train.GradientDescentOptimizer(learning_rate)\n",
    "train_step = my_opt.minimize(loss)"
   ]
  },
  {
   "cell_type": "code",
   "execution_count": 4,
   "metadata": {},
   "outputs": [
    {
     "name": "stdout",
     "output_type": "stream",
     "text": [
      "Step #300 A = [[0.8235593]] b = [[2.8805134]]\n",
      "Loss = [[4.105111]]\n",
      "Step #600 A = [[0.81775904]] b = [[3.774572]]\n",
      "Loss = [[1.4813124]]\n",
      "Step #900 A = [[0.8121886]] b = [[4.2681155]]\n",
      "Loss = [[0.5429627]]\n",
      "Step #1200 A = [[0.8073068]] b = [[4.5409517]]\n",
      "Loss = [[0.4684763]]\n",
      "Step #1500 A = [[0.8028883]] b = [[4.6962404]]\n",
      "Loss = [[0.32267362]]\n"
     ]
    }
   ],
   "source": [
    "loss_vec = []\n",
    "for i in range(1500):\n",
    "    rand_index = np.random.choice(len(x_vals), size=batch_size)\n",
    "    rand_x = np.transpose([x_vals[rand_index]])\n",
    "    rand_y = np.transpose([y_vals[rand_index]])\n",
    "    sess.run(train_step, feed_dict={x_data:rand_x, y_target:rand_y})\n",
    "    temp_loss = sess.run(loss, feed_dict={x_data:rand_x, y_target:rand_y})\n",
    "    loss_vec.append(temp_loss)\n",
    "    if (i + 1) % 300 == 0:\n",
    "        print('Step #' + str(i + 1) + ' A = ' + str(sess.run(A)) + ' b = ' + str(sess.run(b)))\n",
    "        print('Loss = ' + str(temp_loss))"
   ]
  },
  {
   "cell_type": "code",
   "execution_count": 1,
   "metadata": {},
   "outputs": [
    {
     "name": "stderr",
     "output_type": "stream",
     "text": [
      "D:\\anaconda3\\lib\\site-packages\\h5py\\__init__.py:36: FutureWarning: Conversion of the second argument of issubdtype from `float` to `np.floating` is deprecated. In future, it will be treated as `np.float64 == np.dtype(float).type`.\n",
      "  from ._conv import register_converters as _register_converters\n"
     ]
    }
   ],
   "source": [
    "import matplotlib.pyplot as plt\n",
    "import numpy as np\n",
    "import tensorflow as tf\n",
    "from sklearn import datasets\n",
    "sess = tf.Session()"
   ]
  },
  {
   "cell_type": "code",
   "execution_count": 2,
   "metadata": {
    "collapsed": true
   },
   "outputs": [],
   "source": [
    "iris = datasets.load_iris()\n",
    "x_vals = np.array([[x[1], x[2], x[3]] for x in iris.data])\n",
    "y_vals = np.array([y[0] for y in iris.data])"
   ]
  },
  {
   "cell_type": "code",
   "execution_count": 4,
   "metadata": {
    "collapsed": true
   },
   "outputs": [],
   "source": [
    "batch_size = 50\n",
    "learning_rate = 0.01\n",
    "x_data = tf.placeholder(shape=[None, 3], dtype=tf.float32)\n",
    "y_target = tf.placeholder(shape=[None, 1], dtype=tf.float32)\n",
    "A = tf.Variable(tf.random_normal(shape=[3, 1]))\n",
    "b = tf.Variable(tf.random_normal(shape=[1, 1]))\n",
    "model_output = tf.add(tf.matmul(x_data, A), b)"
   ]
  },
  {
   "cell_type": "code",
   "execution_count": 5,
   "metadata": {
    "collapsed": true
   },
   "outputs": [],
   "source": [
    "elastic_param1 = tf.constant(1.0)\n",
    "elastic_param2 = tf.constant(1.0)\n",
    "l1_a_loss = tf.reduce_mean(tf.abs(A))\n",
    "l2_a_loss = tf.reduce_mean(tf.square(A))\n",
    "e1_term = tf.multiply(elastic_param1, l1_a_loss)\n",
    "e2_term = tf.multiply(elastic_param2, l2_a_loss)\n",
    "loss = tf.expand_dims(tf.add(tf.add(tf.reduce_mean(tf.square(y_target - model_output)), e1_term), e2_term), 0)"
   ]
  },
  {
   "cell_type": "code",
   "execution_count": 7,
   "metadata": {},
   "outputs": [
    {
     "name": "stdout",
     "output_type": "stream",
     "text": [
      "Step #250 A = [[0.8349313 ]\n",
      " [0.5624449 ]\n",
      " [0.00737191]] b = [[1.0451463]]\n",
      "Loss = [0.9468905]\n",
      "Step #500 A = [[0.68599325]\n",
      " [0.516535  ]\n",
      " [0.00077379]] b = [[1.6976805]]\n",
      "Loss = [0.7539761]\n",
      "Step #750 A = [[0.5439141 ]\n",
      " [0.49427232]\n",
      " [0.00320227]] b = [[2.2519317]]\n",
      "Loss = [0.6111269]\n",
      "Step #1000 A = [[0.43029642]\n",
      " [0.45574376]\n",
      " [0.0032391 ]] b = [[2.7219362]]\n",
      "Loss = [0.54569244]\n"
     ]
    }
   ],
   "source": [
    "init = tf.global_variables_initializer()\n",
    "sess.run(init)\n",
    "my_opt = tf.train.GradientDescentOptimizer(learning_rate)\n",
    "train_step = my_opt.minimize(loss)\n",
    "loss_vec = []\n",
    "for i in range(1000):\n",
    "    rand_index = np.random.choice(len(x_vals), size=batch_size)\n",
    "    rand_x = x_vals[rand_index]\n",
    "    rand_y = np.transpose([y_vals[rand_index]])\n",
    "    sess.run(train_step, feed_dict={x_data: rand_x, y_target: rand_y})\n",
    "    temp_loss = sess.run(loss, feed_dict={x_data: rand_x, y_target: rand_y})\n",
    "    loss_vec.append(temp_loss[0])\n",
    "    if (i + 1) % 250 == 0:\n",
    "        print('Step #' + str(i + 1) + ' A = ' + str(sess.run(A)) + ' b = ' + str(sess.run(b)))\n",
    "        print('Loss = ' + str(temp_loss))"
   ]
  },
  {
   "cell_type": "code",
   "execution_count": 8,
   "metadata": {},
   "outputs": [
    {
     "data": {
      "image/png": "[encoded data removed]",
      "text/plain": [
       "<Figure size 432x288 with 1 Axes>"
      ]
     },
     "metadata": {},
     "output_type": "display_data"
    }
   ],
   "source": [
    "plt.plot(loss_vec, 'k-')\n",
    "plt.title('Loss per Generation')\n",
    "plt.xlabel('Generation')\n",
    "plt.ylabel('Loss')\n",
    "plt.show()"
   ]
  },
  {
   "cell_type": "code",
   "execution_count": 9,
   "metadata": {
    "collapsed": true
   },
   "outputs": [],
   "source": [
    "import matplotlib.pyplot as plt\n",
    "import numpy as np\n",
    "import tensorflow as tf\n",
    "import requests\n",
    "from sklearn import datasets\n",
    "from sklearn.preprocessing import normalize\n",
    "\n",
    "from tensorflow.python.framework import ops"
   ]
  },
  {
   "cell_type": "code",
   "execution_count": 10,
   "metadata": {
    "collapsed": true
   },
   "outputs": [],
   "source": [
    "ops.reset_default_graph()\n",
    "sess = tf.Session()"
   ]
  },
  {
   "cell_type": "code",
   "execution_count": 29,
   "metadata": {},
   "outputs": [],
   "source": [
    "# birthdata_url = 'http://faculty.washington.edu/heagerty/Courses/b513/WEB2002/datasets/lowbwt.dat'\n",
    "# birth_file = requests.get(birthdata_url)\n",
    "with open('lowbwt.txt', 'r') as file:\n",
    "    birth_data = [[float(data) for data in line.strip('\\n').split()] for line in file.readlines()]"
   ]
  },
  {
   "cell_type": "code",
   "execution_count": 32,
   "metadata": {},
   "outputs": [
    {
     "name": "stdout",
     "output_type": "stream",
     "text": [
      "[[85.0, 0.0, 19.0, 182.0, 2.0, 0.0, 0.0, 0.0, 1.0, 0.0, 2523.0], [86.0, 0.0, 33.0, 155.0, 3.0, 0.0, 0.0, 0.0, 0.0, 3.0, 2551.0], [87.0, 0.0, 20.0, 105.0, 1.0, 1.0, 0.0, 0.0, 0.0, 1.0, 2557.0], [88.0, 0.0, 21.0, 108.0, 1.0, 1.0, 0.0, 0.0, 1.0, 2.0, 2594.0], [89.0, 0.0, 18.0, 107.0, 1.0, 1.0, 0.0, 0.0, 1.0, 0.0, 2600.0], [91.0, 0.0, 21.0, 124.0, 3.0, 0.0, 0.0, 0.0, 0.0, 0.0, 2622.0], [92.0, 0.0, 22.0, 118.0, 1.0, 0.0, 0.0, 0.0, 0.0, 1.0, 2637.0], [93.0, 0.0, 17.0, 103.0, 3.0, 0.0, 0.0, 0.0, 0.0, 1.0, 2637.0], [94.0, 0.0, 29.0, 123.0, 1.0, 1.0, 0.0, 0.0, 0.0, 1.0, 2663.0], [95.0, 0.0, 26.0, 113.0, 1.0, 1.0, 0.0, 0.0, 0.0, 0.0, 2665.0], [96.0, 0.0, 19.0, 95.0, 3.0, 0.0, 0.0, 0.0, 0.0, 0.0, 2722.0], [97.0, 0.0, 19.0, 150.0, 3.0, 0.0, 0.0, 0.0, 0.0, 1.0, 2733.0], [98.0, 0.0, 22.0, 95.0, 3.0, 0.0, 0.0, 1.0, 0.0, 0.0, 2750.0], [99.0, 0.0, 30.0, 107.0, 3.0, 0.0, 1.0, 0.0, 1.0, 2.0, 2750.0], [100.0, 0.0, 18.0, 100.0, 1.0, 1.0, 0.0, 0.0, 0.0, 0.0, 2769.0], [101.0, 0.0, 18.0, 100.0, 1.0, 1.0, 0.0, 0.0, 0.0, 0.0, 2769.0], [102.0, 0.0, 15.0, 98.0, 2.0, 0.0, 0.0, 0.0, 0.0, 0.0, 2778.0], [103.0, 0.0, 25.0, 118.0, 1.0, 1.0, 0.0, 0.0, 0.0, 3.0, 2782.0], [104.0, 0.0, 20.0, 120.0, 3.0, 0.0, 0.0, 0.0, 1.0, 0.0, 2807.0], [105.0, 0.0, 28.0, 120.0, 1.0, 1.0, 0.0, 0.0, 0.0, 1.0, 2821.0], [106.0, 0.0, 32.0, 121.0, 3.0, 0.0, 0.0, 0.0, 0.0, 2.0, 2835.0], [107.0, 0.0, 31.0, 100.0, 1.0, 0.0, 0.0, 0.0, 1.0, 3.0, 2835.0], [108.0, 0.0, 36.0, 202.0, 1.0, 0.0, 0.0, 0.0, 0.0, 1.0, 2836.0], [109.0, 0.0, 28.0, 120.0, 3.0, 0.0, 0.0, 0.0, 0.0, 0.0, 2863.0], [111.0, 0.0, 25.0, 120.0, 3.0, 0.0, 0.0, 0.0, 1.0, 2.0, 2877.0], [112.0, 0.0, 28.0, 167.0, 1.0, 0.0, 0.0, 0.0, 0.0, 0.0, 2877.0], [113.0, 0.0, 17.0, 122.0, 1.0, 1.0, 0.0, 0.0, 0.0, 0.0, 2906.0], [114.0, 0.0, 29.0, 150.0, 1.0, 0.0, 0.0, 0.0, 0.0, 2.0, 2920.0], [115.0, 0.0, 26.0, 168.0, 2.0, 1.0, 0.0, 0.0, 0.0, 0.0, 2920.0], [116.0, 0.0, 17.0, 113.0, 2.0, 0.0, 0.0, 0.0, 0.0, 1.0, 2920.0], [117.0, 0.0, 17.0, 113.0, 2.0, 0.0, 0.0, 0.0, 0.0, 1.0, 2920.0], [118.0, 0.0, 24.0, 90.0, 1.0, 1.0, 1.0, 0.0, 0.0, 1.0, 2948.0], [119.0, 0.0, 35.0, 121.0, 2.0, 1.0, 1.0, 0.0, 0.0, 1.0, 2948.0], [120.0, 0.0, 25.0, 155.0, 1.0, 0.0, 0.0, 0.0, 0.0, 1.0, 2977.0], [121.0, 0.0, 25.0, 125.0, 2.0, 0.0, 0.0, 0.0, 0.0, 0.0, 2977.0], [123.0, 0.0, 29.0, 140.0, 1.0, 1.0, 0.0, 0.0, 0.0, 2.0, 2977.0], [124.0, 0.0, 19.0, 138.0, 1.0, 1.0, 0.0, 0.0, 0.0, 2.0, 2977.0], [125.0, 0.0, 27.0, 124.0, 1.0, 1.0, 0.0, 0.0, 0.0, 0.0, 2992.0], [126.0, 0.0, 31.0, 215.0, 1.0, 1.0, 0.0, 0.0, 0.0, 2.0, 3005.0], [127.0, 0.0, 33.0, 109.0, 1.0, 1.0, 0.0, 0.0, 0.0, 1.0, 3033.0], [128.0, 0.0, 21.0, 185.0, 2.0, 1.0, 0.0, 0.0, 0.0, 2.0, 3042.0], [129.0, 0.0, 19.0, 189.0, 1.0, 0.0, 0.0, 0.0, 0.0, 2.0, 3062.0], [130.0, 0.0, 23.0, 130.0, 2.0, 0.0, 0.0, 0.0, 0.0, 1.0, 3062.0], [131.0, 0.0, 21.0, 160.0, 1.0, 0.0, 0.0, 0.0, 0.0, 0.0, 3062.0], [132.0, 0.0, 18.0, 90.0, 1.0, 1.0, 0.0, 0.0, 1.0, 0.0, 3076.0], [133.0, 0.0, 18.0, 90.0, 1.0, 1.0, 0.0, 0.0, 1.0, 0.0, 3076.0], [134.0, 0.0, 32.0, 132.0, 1.0, 0.0, 0.0, 0.0, 0.0, 4.0, 3080.0], [135.0, 0.0, 19.0, 132.0, 3.0, 0.0, 0.0, 0.0, 0.0, 0.0, 3090.0], [136.0, 0.0, 24.0, 115.0, 1.0, 0.0, 0.0, 0.0, 0.0, 2.0, 3090.0], [137.0, 0.0, 22.0, 85.0, 3.0, 1.0, 0.0, 0.0, 0.0, 0.0, 3090.0], [138.0, 0.0, 22.0, 120.0, 1.0, 0.0, 0.0, 1.0, 0.0, 1.0, 3100.0], [139.0, 0.0, 23.0, 128.0, 3.0, 0.0, 0.0, 0.0, 0.0, 0.0, 3104.0], [140.0, 0.0, 22.0, 130.0, 1.0, 1.0, 0.0, 0.0, 0.0, 0.0, 3132.0], [141.0, 0.0, 30.0, 95.0, 1.0, 1.0, 0.0, 0.0, 0.0, 2.0, 3147.0], [142.0, 0.0, 19.0, 115.0, 3.0, 0.0, 0.0, 0.0, 0.0, 0.0, 3175.0], [143.0, 0.0, 16.0, 110.0, 3.0, 0.0, 0.0, 0.0, 0.0, 0.0, 3175.0], [144.0, 0.0, 21.0, 110.0, 3.0, 1.0, 0.0, 0.0, 1.0, 0.0, 3203.0], [145.0, 0.0, 30.0, 153.0, 3.0, 0.0, 0.0, 0.0, 0.0, 0.0, 3203.0], [146.0, 0.0, 20.0, 103.0, 3.0, 0.0, 0.0, 0.0, 0.0, 0.0, 3203.0], [147.0, 0.0, 17.0, 119.0, 3.0, 0.0, 0.0, 0.0, 0.0, 0.0, 3225.0], [148.0, 0.0, 17.0, 119.0, 3.0, 0.0, 0.0, 0.0, 0.0, 0.0, 3225.0], [149.0, 0.0, 23.0, 119.0, 3.0, 0.0, 0.0, 0.0, 0.0, 2.0, 3232.0], [150.0, 0.0, 24.0, 110.0, 3.0, 0.0, 0.0, 0.0, 0.0, 0.0, 3232.0], [151.0, 0.0, 28.0, 140.0, 1.0, 0.0, 0.0, 0.0, 0.0, 0.0, 3234.0], [154.0, 0.0, 26.0, 133.0, 3.0, 1.0, 2.0, 0.0, 0.0, 0.0, 3260.0], [155.0, 0.0, 20.0, 169.0, 3.0, 0.0, 1.0, 0.0, 1.0, 1.0, 3274.0], [156.0, 0.0, 24.0, 115.0, 3.0, 0.0, 0.0, 0.0, 0.0, 2.0, 3274.0], [159.0, 0.0, 28.0, 250.0, 3.0, 1.0, 0.0, 0.0, 0.0, 6.0, 3303.0], [160.0, 0.0, 20.0, 141.0, 1.0, 0.0, 2.0, 0.0, 1.0, 1.0, 3317.0], [161.0, 0.0, 22.0, 158.0, 2.0, 0.0, 1.0, 0.0, 0.0, 2.0, 3317.0], [162.0, 0.0, 22.0, 112.0, 1.0, 1.0, 2.0, 0.0, 0.0, 0.0, 3317.0], [163.0, 0.0, 31.0, 150.0, 3.0, 1.0, 0.0, 0.0, 0.0, 2.0, 3321.0], [164.0, 0.0, 23.0, 115.0, 3.0, 1.0, 0.0, 0.0, 0.0, 1.0, 3331.0], [166.0, 0.0, 16.0, 112.0, 2.0, 0.0, 0.0, 0.0, 0.0, 0.0, 3374.0], [167.0, 0.0, 16.0, 135.0, 1.0, 1.0, 0.0, 0.0, 0.0, 0.0, 3374.0], [168.0, 0.0, 18.0, 229.0, 2.0, 0.0, 0.0, 0.0, 0.0, 0.0, 3402.0], [169.0, 0.0, 25.0, 140.0, 1.0, 0.0, 0.0, 0.0, 0.0, 1.0, 3416.0], [170.0, 0.0, 32.0, 134.0, 1.0, 1.0, 1.0, 0.0, 0.0, 4.0, 3430.0], [172.0, 0.0, 20.0, 121.0, 2.0, 1.0, 0.0, 0.0, 0.0, 0.0, 3444.0], [173.0, 0.0, 23.0, 190.0, 1.0, 0.0, 0.0, 0.0, 0.0, 0.0, 3459.0], [174.0, 0.0, 22.0, 131.0, 1.0, 0.0, 0.0, 0.0, 0.0, 1.0, 3460.0], [175.0, 0.0, 32.0, 170.0, 1.0, 0.0, 0.0, 0.0, 0.0, 0.0, 3473.0], [176.0, 0.0, 30.0, 110.0, 3.0, 0.0, 0.0, 0.0, 0.0, 0.0, 3475.0], [177.0, 0.0, 20.0, 127.0, 3.0, 0.0, 0.0, 0.0, 0.0, 0.0, 3487.0], [179.0, 0.0, 23.0, 123.0, 3.0, 0.0, 0.0, 0.0, 0.0, 0.0, 3544.0], [180.0, 0.0, 17.0, 120.0, 3.0, 1.0, 0.0, 0.0, 0.0, 0.0, 3572.0], [181.0, 0.0, 19.0, 105.0, 3.0, 0.0, 0.0, 0.0, 0.0, 0.0, 3572.0], [182.0, 0.0, 23.0, 130.0, 1.0, 0.0, 0.0, 0.0, 0.0, 0.0, 3586.0], [183.0, 0.0, 36.0, 175.0, 1.0, 0.0, 0.0, 0.0, 0.0, 0.0, 3600.0], [184.0, 0.0, 22.0, 125.0, 1.0, 0.0, 0.0, 0.0, 0.0, 1.0, 3614.0], [185.0, 0.0, 24.0, 133.0, 1.0, 0.0, 0.0, 0.0, 0.0, 0.0, 3614.0], [186.0, 0.0, 21.0, 134.0, 3.0, 0.0, 0.0, 0.0, 0.0, 2.0, 3629.0], [187.0, 0.0, 19.0, 235.0, 1.0, 1.0, 0.0, 1.0, 0.0, 0.0, 3629.0], [188.0, 0.0, 25.0, 95.0, 1.0, 1.0, 3.0, 0.0, 1.0, 0.0, 3637.0], [189.0, 0.0, 16.0, 135.0, 1.0, 1.0, 0.0, 0.0, 0.0, 0.0, 3643.0], [190.0, 0.0, 29.0, 135.0, 1.0, 0.0, 0.0, 0.0, 0.0, 1.0, 3651.0], [191.0, 0.0, 29.0, 154.0, 1.0, 0.0, 0.0, 0.0, 0.0, 1.0, 3651.0], [192.0, 0.0, 19.0, 147.0, 1.0, 1.0, 0.0, 0.0, 0.0, 0.0, 3651.0], [193.0, 0.0, 19.0, 147.0, 1.0, 1.0, 0.0, 0.0, 0.0, 0.0, 3651.0], [195.0, 0.0, 30.0, 137.0, 1.0, 0.0, 0.0, 0.0, 0.0, 1.0, 3699.0], [196.0, 0.0, 24.0, 110.0, 1.0, 0.0, 0.0, 0.0, 0.0, 1.0, 3728.0], [197.0, 0.0, 19.0, 184.0, 1.0, 1.0, 0.0, 1.0, 0.0, 0.0, 3756.0], [199.0, 0.0, 24.0, 110.0, 3.0, 0.0, 1.0, 0.0, 0.0, 0.0, 3770.0], [200.0, 0.0, 23.0, 110.0, 1.0, 0.0, 0.0, 0.0, 0.0, 1.0, 3770.0], [201.0, 0.0, 20.0, 120.0, 3.0, 0.0, 0.0, 0.0, 0.0, 0.0, 3770.0], [202.0, 0.0, 25.0, 241.0, 2.0, 0.0, 0.0, 1.0, 0.0, 0.0, 3790.0], [203.0, 0.0, 30.0, 112.0, 1.0, 0.0, 0.0, 0.0, 0.0, 1.0, 3799.0], [204.0, 0.0, 22.0, 169.0, 1.0, 0.0, 0.0, 0.0, 0.0, 0.0, 3827.0], [205.0, 0.0, 18.0, 120.0, 1.0, 1.0, 0.0, 0.0, 0.0, 2.0, 3856.0], [206.0, 0.0, 16.0, 170.0, 2.0, 0.0, 0.0, 0.0, 0.0, 4.0, 3860.0], [207.0, 0.0, 32.0, 186.0, 1.0, 0.0, 0.0, 0.0, 0.0, 2.0, 3860.0], [208.0, 0.0, 18.0, 120.0, 3.0, 0.0, 0.0, 0.0, 0.0, 1.0, 3884.0], [209.0, 0.0, 29.0, 130.0, 1.0, 1.0, 0.0, 0.0, 0.0, 2.0, 3884.0], [210.0, 0.0, 33.0, 117.0, 1.0, 0.0, 0.0, 0.0, 1.0, 1.0, 3912.0], [211.0, 0.0, 20.0, 170.0, 1.0, 1.0, 0.0, 0.0, 0.0, 0.0, 3940.0], [212.0, 0.0, 28.0, 134.0, 3.0, 0.0, 0.0, 0.0, 0.0, 1.0, 3941.0], [213.0, 0.0, 14.0, 135.0, 1.0, 0.0, 0.0, 0.0, 0.0, 0.0, 3941.0], [214.0, 0.0, 28.0, 130.0, 3.0, 0.0, 0.0, 0.0, 0.0, 0.0, 3969.0], [215.0, 0.0, 25.0, 120.0, 1.0, 0.0, 0.0, 0.0, 0.0, 2.0, 3983.0], [216.0, 0.0, 16.0, 95.0, 3.0, 0.0, 0.0, 0.0, 0.0, 1.0, 3997.0], [217.0, 0.0, 20.0, 158.0, 1.0, 0.0, 0.0, 0.0, 0.0, 1.0, 3997.0], [218.0, 0.0, 26.0, 160.0, 3.0, 0.0, 0.0, 0.0, 0.0, 0.0, 4054.0], [219.0, 0.0, 21.0, 115.0, 1.0, 0.0, 0.0, 0.0, 0.0, 1.0, 4054.0], [220.0, 0.0, 22.0, 129.0, 1.0, 0.0, 0.0, 0.0, 0.0, 0.0, 4111.0], [221.0, 0.0, 25.0, 130.0, 1.0, 0.0, 0.0, 0.0, 0.0, 2.0, 4153.0], [222.0, 0.0, 31.0, 120.0, 1.0, 0.0, 0.0, 0.0, 0.0, 2.0, 4167.0], [223.0, 0.0, 35.0, 170.0, 1.0, 0.0, 1.0, 0.0, 0.0, 1.0, 4174.0], [224.0, 0.0, 19.0, 120.0, 1.0, 1.0, 0.0, 0.0, 0.0, 0.0, 4238.0], [225.0, 0.0, 24.0, 116.0, 1.0, 0.0, 0.0, 0.0, 0.0, 1.0, 4593.0], [226.0, 0.0, 45.0, 123.0, 1.0, 0.0, 0.0, 0.0, 0.0, 1.0, 4990.0], [4.0, 1.0, 28.0, 120.0, 3.0, 1.0, 1.0, 0.0, 1.0, 0.0, 709.0], [10.0, 1.0, 29.0, 130.0, 1.0, 0.0, 0.0, 0.0, 1.0, 2.0, 1021.0], [11.0, 1.0, 34.0, 187.0, 2.0, 1.0, 0.0, 1.0, 0.0, 0.0, 1135.0], [13.0, 1.0, 25.0, 105.0, 3.0, 0.0, 1.0, 1.0, 0.0, 0.0, 1330.0], [15.0, 1.0, 25.0, 85.0, 3.0, 0.0, 0.0, 0.0, 1.0, 0.0, 1474.0], [16.0, 1.0, 27.0, 150.0, 3.0, 0.0, 0.0, 0.0, 0.0, 0.0, 1588.0], [17.0, 1.0, 23.0, 97.0, 3.0, 0.0, 0.0, 0.0, 1.0, 1.0, 1588.0], [18.0, 1.0, 24.0, 128.0, 2.0, 0.0, 1.0, 0.0, 0.0, 1.0, 1701.0], [19.0, 1.0, 24.0, 132.0, 3.0, 0.0, 0.0, 1.0, 0.0, 0.0, 1729.0], [20.0, 1.0, 21.0, 165.0, 1.0, 1.0, 0.0, 1.0, 0.0, 1.0, 1790.0], [22.0, 1.0, 32.0, 105.0, 1.0, 1.0, 0.0, 0.0, 0.0, 0.0, 1818.0], [23.0, 1.0, 19.0, 91.0, 1.0, 1.0, 2.0, 0.0, 1.0, 0.0, 1885.0], [24.0, 1.0, 25.0, 115.0, 3.0, 0.0, 0.0, 0.0, 0.0, 0.0, 1893.0], [25.0, 1.0, 16.0, 130.0, 3.0, 0.0, 0.0, 0.0, 0.0, 1.0, 1899.0], [26.0, 1.0, 25.0, 92.0, 1.0, 1.0, 0.0, 0.0, 0.0, 0.0, 1928.0], [27.0, 1.0, 20.0, 150.0, 1.0, 1.0, 0.0, 0.0, 0.0, 2.0, 1928.0], [28.0, 1.0, 21.0, 200.0, 2.0, 0.0, 0.0, 0.0, 1.0, 2.0, 1928.0], [29.0, 1.0, 24.0, 155.0, 1.0, 1.0, 1.0, 0.0, 0.0, 0.0, 1936.0], [30.0, 1.0, 21.0, 103.0, 3.0, 0.0, 0.0, 0.0, 0.0, 0.0, 1970.0], [31.0, 1.0, 20.0, 125.0, 3.0, 0.0, 0.0, 0.0, 1.0, 0.0, 2055.0], [32.0, 1.0, 25.0, 89.0, 3.0, 0.0, 2.0, 0.0, 0.0, 1.0, 2055.0], [33.0, 1.0, 19.0, 102.0, 1.0, 0.0, 0.0, 0.0, 0.0, 2.0, 2082.0], [34.0, 1.0, 19.0, 112.0, 1.0, 1.0, 0.0, 0.0, 1.0, 0.0, 2084.0], [35.0, 1.0, 26.0, 117.0, 1.0, 1.0, 1.0, 0.0, 0.0, 0.0, 2084.0], [36.0, 1.0, 24.0, 138.0, 1.0, 0.0, 0.0, 0.0, 0.0, 0.0, 2100.0], [37.0, 1.0, 17.0, 130.0, 3.0, 1.0, 1.0, 0.0, 1.0, 0.0, 2125.0], [40.0, 1.0, 20.0, 120.0, 2.0, 1.0, 0.0, 0.0, 0.0, 3.0, 2126.0], [42.0, 1.0, 22.0, 130.0, 1.0, 1.0, 1.0, 0.0, 1.0, 1.0, 2187.0], [43.0, 1.0, 27.0, 130.0, 2.0, 0.0, 0.0, 0.0, 1.0, 0.0, 2187.0], [44.0, 1.0, 20.0, 80.0, 3.0, 1.0, 0.0, 0.0, 1.0, 0.0, 2211.0], [45.0, 1.0, 17.0, 110.0, 1.0, 1.0, 0.0, 0.0, 0.0, 0.0, 2225.0], [46.0, 1.0, 25.0, 105.0, 3.0, 0.0, 1.0, 0.0, 0.0, 1.0, 2240.0], [47.0, 1.0, 20.0, 109.0, 3.0, 0.0, 0.0, 0.0, 0.0, 0.0, 2240.0], [49.0, 1.0, 18.0, 148.0, 3.0, 0.0, 0.0, 0.0, 0.0, 0.0, 2282.0], [50.0, 1.0, 18.0, 110.0, 2.0, 1.0, 1.0, 0.0, 0.0, 0.0, 2296.0], [51.0, 1.0, 20.0, 121.0, 1.0, 1.0, 1.0, 0.0, 1.0, 0.0, 2296.0], [52.0, 1.0, 21.0, 100.0, 3.0, 0.0, 1.0, 0.0, 0.0, 4.0, 2301.0], [54.0, 1.0, 26.0, 96.0, 3.0, 0.0, 0.0, 0.0, 0.0, 0.0, 2325.0], [56.0, 1.0, 31.0, 102.0, 1.0, 1.0, 1.0, 0.0, 0.0, 1.0, 2353.0], [57.0, 1.0, 15.0, 110.0, 1.0, 0.0, 0.0, 0.0, 0.0, 0.0, 2353.0], [59.0, 1.0, 23.0, 187.0, 2.0, 1.0, 0.0, 0.0, 0.0, 1.0, 2367.0], [60.0, 1.0, 20.0, 122.0, 2.0, 1.0, 0.0, 0.0, 0.0, 0.0, 2381.0], [61.0, 1.0, 24.0, 105.0, 2.0, 1.0, 0.0, 0.0, 0.0, 0.0, 2381.0], [62.0, 1.0, 15.0, 115.0, 3.0, 0.0, 0.0, 0.0, 1.0, 0.0, 2381.0], [63.0, 1.0, 23.0, 120.0, 3.0, 0.0, 0.0, 0.0, 0.0, 0.0, 2395.0], [65.0, 1.0, 30.0, 142.0, 1.0, 1.0, 1.0, 0.0, 0.0, 0.0, 2410.0], [67.0, 1.0, 22.0, 130.0, 1.0, 1.0, 0.0, 0.0, 0.0, 1.0, 2410.0], [68.0, 1.0, 17.0, 120.0, 1.0, 1.0, 0.0, 0.0, 0.0, 3.0, 2414.0], [69.0, 1.0, 23.0, 110.0, 1.0, 1.0, 1.0, 0.0, 0.0, 0.0, 2424.0], [71.0, 1.0, 17.0, 120.0, 2.0, 0.0, 0.0, 0.0, 0.0, 2.0, 2438.0], [75.0, 1.0, 26.0, 154.0, 3.0, 0.0, 1.0, 1.0, 0.0, 1.0, 2442.0], [76.0, 1.0, 20.0, 105.0, 3.0, 0.0, 0.0, 0.0, 0.0, 3.0, 2450.0], [77.0, 1.0, 26.0, 190.0, 1.0, 1.0, 0.0, 0.0, 0.0, 0.0, 2466.0], [78.0, 1.0, 14.0, 101.0, 3.0, 1.0, 1.0, 0.0, 0.0, 0.0, 2466.0], [79.0, 1.0, 28.0, 95.0, 1.0, 1.0, 0.0, 0.0, 0.0, 2.0, 2466.0], [81.0, 1.0, 14.0, 100.0, 3.0, 0.0, 0.0, 0.0, 0.0, 2.0, 2495.0], [82.0, 1.0, 23.0, 94.0, 3.0, 1.0, 0.0, 0.0, 0.0, 0.0, 2495.0], [83.0, 1.0, 17.0, 142.0, 2.0, 0.0, 0.0, 1.0, 0.0, 0.0, 2495.0], [84.0, 1.0, 21.0, 130.0, 1.0, 1.0, 0.0, 1.0, 0.0, 3.0, 2495.0]]\n"
     ]
    }
   ],
   "source": [
    "print(birth_data)"
   ]
  },
  {
   "cell_type": "code",
   "execution_count": 33,
   "metadata": {
    "collapsed": true
   },
   "outputs": [],
   "source": [
    "y_vals = np.array([x[1] for x in birth_data])\n",
    "x_vals = np.array([x[2: 9] for x in birth_data])"
   ]
  },
  {
   "cell_type": "code",
   "execution_count": 34,
   "metadata": {},
   "outputs": [
    {
     "name": "stdout",
     "output_type": "stream",
     "text": [
      "[0. 0. 0. 0. 0. 0. 0. 0. 0. 0. 0. 0. 0. 0. 0. 0. 0. 0. 0. 0. 0. 0. 0. 0.\n",
      " 0. 0. 0. 0. 0. 0. 0. 0. 0. 0. 0. 0. 0. 0. 0. 0. 0. 0. 0. 0. 0. 0. 0. 0.\n",
      " 0. 0. 0. 0. 0. 0. 0. 0. 0. 0. 0. 0. 0. 0. 0. 0. 0. 0. 0. 0. 0. 0. 0. 0.\n",
      " 0. 0. 0. 0. 0. 0. 0. 0. 0. 0. 0. 0. 0. 0. 0. 0. 0. 0. 0. 0. 0. 0. 0. 0.\n",
      " 0. 0. 0. 0. 0. 0. 0. 0. 0. 0. 0. 0. 0. 0. 0. 0. 0. 0. 0. 0. 0. 0. 0. 0.\n",
      " 0. 0. 0. 0. 0. 0. 0. 0. 0. 0. 1. 1. 1. 1. 1. 1. 1. 1. 1. 1. 1. 1. 1. 1.\n",
      " 1. 1. 1. 1. 1. 1. 1. 1. 1. 1. 1. 1. 1. 1. 1. 1. 1. 1. 1. 1. 1. 1. 1. 1.\n",
      " 1. 1. 1. 1. 1. 1. 1. 1. 1. 1. 1. 1. 1. 1. 1. 1. 1. 1. 1. 1. 1.]\n"
     ]
    }
   ],
   "source": [
    "print(y_vals)"
   ]
  },
  {
   "cell_type": "code",
   "execution_count": 35,
   "metadata": {},
   "outputs": [
    {
     "name": "stdout",
     "output_type": "stream",
     "text": [
      "[[ 19. 182.   2. ...   0.   0.   1.]\n",
      " [ 33. 155.   3. ...   0.   0.   0.]\n",
      " [ 20. 105.   1. ...   0.   0.   0.]\n",
      " ...\n",
      " [ 23.  94.   3. ...   0.   0.   0.]\n",
      " [ 17. 142.   2. ...   0.   1.   0.]\n",
      " [ 21. 130.   1. ...   0.   1.   0.]]\n"
     ]
    }
   ],
   "source": [
    "print(x_vals)"
   ]
  },
  {
   "cell_type": "code",
   "execution_count": 36,
   "metadata": {
    "collapsed": true
   },
   "outputs": [],
   "source": [
    "train_indices = np.random.choice(len(x_vals), round(len(x_vals)*0.8), replace=False)\n",
    "test_indices = np.array(list(set(range(len(x_vals))) - set(train_indices)))"
   ]
  },
  {
   "cell_type": "code",
   "execution_count": 37,
   "metadata": {
    "collapsed": true
   },
   "outputs": [],
   "source": [
    "x_vals_train = x_vals[train_indices]\n",
    "x_vals_test = x_vals[test_indices]\n",
    "y_vals_train = y_vals[train_indices]\n",
    "y_vals_test = y_vals[test_indices]"
   ]
  },
  {
   "cell_type": "code",
   "execution_count": 38,
   "metadata": {
    "collapsed": true
   },
   "outputs": [],
   "source": [
    "def normalize_cols(m):\n",
    "    col_max = m.max(axis=0)\n",
    "    col_min = m.min(axis=0)\n",
    "    return (m - col_min) / (col_max - col_min)\n",
    "\n",
    "x_vals_train = np.nan_to_num(normalize_cols(x_vals_train))\n",
    "x_vals_test = np.nan_to_num(normalize_cols(x_vals_test))"
   ]
  },
  {
   "cell_type": "code",
   "execution_count": 39,
   "metadata": {
    "collapsed": true
   },
   "outputs": [],
   "source": [
    "batch_size = 25\n",
    "x_data = tf.placeholder(shape=[None, 7], dtype=tf.float32)\n",
    "y_target = tf.placeholder(shape=[None, 1], dtype=tf.float32)\n",
    "A = tf.Variable(tf.random_normal(shape=[7, 1]))\n",
    "\n",
    "b = tf.Variable(tf.random_normal(shape=[1, 1]))\n",
    "model_output = tf.add(tf.matmul(x_data, A), b)"
   ]
  },
  {
   "cell_type": "code",
   "execution_count": 41,
   "metadata": {},
   "outputs": [],
   "source": [
    "loss = tf.reduce_mean(tf.nn.sigmoid_cross_entropy_with_logits(logits=model_output, labels=y_target))\n",
    "init = tf.global_variables_initializer()\n",
    "sess.run(init)\n",
    "my_opt = tf.train.GradientDescentOptimizer(0.01)\n",
    "train_step = my_opt.minimize(loss)"
   ]
  },
  {
   "cell_type": "code",
   "execution_count": 42,
   "metadata": {
    "collapsed": true
   },
   "outputs": [],
   "source": [
    "prediction = tf.round(tf.sigmoid(model_output))\n",
    "predictions_correct = tf.cast(tf.equal(prediction, y_target), tf.float32)\n",
    "accuracy = tf.reduce_mean(predictions_correct)"
   ]
  },
  {
   "cell_type": "code",
   "execution_count": 43,
   "metadata": {
    "collapsed": true
   },
   "outputs": [],
   "source": [
    "loss_vec = []\n",
    "train_acc = []\n",
    "test_acc = []\n",
    "for i in range(1500):\n",
    "    rand_index = np.random.choice(len(x_vals_train), size=batch_size)\n",
    "    rand_x = x_vals_train[rand_index]\n",
    "    rand_y = np.transpose([y_vals_train[rand_index]])\n",
    "    sess.run(train_step, feed_dict={x_data: rand_x, y_target: rand_y})\n",
    "    temp_loss = sess.run(loss, feed_dict={x_data: rand_x, y_target: rand_y})\n",
    "    loss_vec.append(temp_loss)\n",
    "    temp_acc_train = sess.run(accuracy, feed_dict={x_data: x_vals_train, y_target: np.transpose([y_vals_train])})\n",
    "    train_acc.append(temp_acc_train)\n",
    "    temp_acc_test = sess.run(accuracy, feed_dict={x_data: x_vals_test, y_target: np.transpose([y_vals_test])})\n",
    "    test_acc.append(temp_acc_test)"
   ]
  },
  {
   "cell_type": "code",
   "execution_count": 46,
   "metadata": {},
   "outputs": [
    {
     "data": {
      "image/png": "[encoded data removed]",
      "text/plain": [
       "<Figure size 432x288 with 1 Axes>"
      ]
     },
     "metadata": {},
     "output_type": "display_data"
    },
    {
     "data": {
      "image/png": "[encoded data removed]",
      "text/plain": [
       "<Figure size 432x288 with 1 Axes>"
      ]
     },
     "metadata": {},
     "output_type": "display_data"
    }
   ],
   "source": [
    "plt.plot(loss_vec, 'k-')\n",
    "plt.title('Cross Entropy Loss per Generation')\n",
    "plt.xlabel('Generation')\n",
    "plt.ylabel('Cross Entropy Loss')\n",
    "plt.show()\n",
    "plt.plot(train_acc, 'k-', label='Train Set Accuracy')\n",
    "plt.plot(test_acc, 'r--', label='Test Set Accuracy')\n",
    "plt.title('Train and Test Accuracy')\n",
    "plt.xlabel('Generation')\n",
    "plt.ylabel('Accuracy')\n",
    "plt.legend(loc='lower right')\n",
    "plt.show()"
   ]
  },
  {
   "cell_type": "code",
   "execution_count": null,
   "metadata": {
    "collapsed": true
   },
   "outputs": [],
   "source": []
  }
 ],
 "metadata": {
  "kernelspec": {
   "display_name": "Python 3",
   "language": "python",
   "name": "python3"
  },
  "language_info": {
   "codemirror_mode": {
    "name": "ipython",
    "version": 3
   },
   "file_extension": ".py",
   "mimetype": "text/x-python",
   "name": "python",
   "nbconvert_exporter": "python",
   "pygments_lexer": "ipython3",
   "version": "3.6.3"
  }
 },
 "nbformat": 4,
 "nbformat_minor": 2
}
