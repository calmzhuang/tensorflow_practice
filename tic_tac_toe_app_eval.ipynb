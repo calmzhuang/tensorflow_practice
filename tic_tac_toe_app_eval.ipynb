{
 "cells": [
  {
   "cell_type": "code",
   "execution_count": 1,
   "metadata": {},
   "outputs": [],
   "source": [
    "import tensorflow as tf\n",
    "import matplotlib.pyplot as plt\n",
    "import csv\n",
    "import numpy as np"
   ]
  },
  {
   "cell_type": "code",
   "execution_count": 2,
   "metadata": {},
   "outputs": [],
   "source": [
    "def get_moves_from_csv(csv_file):\n",
    "    moves = []\n",
    "    with open(csv_file, 'rt') as csvfile:\n",
    "        reader = csv.reader(csvfile, delimiter=',')\n",
    "        for row in reader:\n",
    "            moves.append([[int(x) for x in row[0: 9]], int(row[9])])\n",
    "    return moves\n",
    "\n",
    "moves = get_moves_from_csv('base_tic_tac_toe_data.csv')\n",
    "\n",
    "x_vals_eval = np.array([x[0] for x in moves])\n",
    "y_vals_eval = np.array([x[1] for x in moves])"
   ]
  },
  {
   "cell_type": "code",
   "execution_count": 3,
   "metadata": {},
   "outputs": [],
   "source": [
    "def init_weights(shape):\n",
    "    return tf.Variable(tf.random_normal(shape), dtype=tf.float32)\n",
    "\n",
    "def model(X, A1, A2, A3, bias1, bias2, bias3, train_b):\n",
    "    layer1 = tf.nn.relu(tf.add(tf.matmul(X, A1), bias1))\n",
    "    if train_b[0] == 1:\n",
    "        layer1 = tf.nn.dropout(layer1, 0.5)\n",
    "    layer2 = tf.nn.relu(tf.add(tf.matmul(layer1, A2), bias2))\n",
    "    if train_b[0] == 1:\n",
    "        layer2 = tf.nn.dropout(layer2, 0.5)\n",
    "    layer3 = tf.add(tf.matmul(layer2, A3), bias3)\n",
    "    return layer3"
   ]
  },
  {
   "cell_type": "code",
   "execution_count": 4,
   "metadata": {},
   "outputs": [],
   "source": [
    "X = tf.placeholder(dtype=tf.float32, shape=[None, 9])\n",
    "Y = tf.placeholder(dtype=tf.int64, shape=[None])\n",
    "train_b = tf.placeholder(dtype=tf.int32, shape=[1])\n",
    "A1 = init_weights([9, 27])\n",
    "bias1 = init_weights([27])\n",
    "A2 = init_weights([27, 18])\n",
    "bias2 = init_weights([18])\n",
    "A3 = init_weights([18, 9])\n",
    "bias3 = init_weights([9])\n",
    "model_output = model(X, A1, A2, A3, bias1, bias2, bias3, train_b)"
   ]
  },
  {
   "cell_type": "code",
   "execution_count": 5,
   "metadata": {},
   "outputs": [],
   "source": [
    "correct_prediction = tf.equal(tf.argmax(model_output, 1), Y)\n",
    "accuracy = tf.reduce_mean(tf.cast(correct_prediction, tf.float32))"
   ]
  },
  {
   "cell_type": "code",
   "execution_count": 6,
   "metadata": {},
   "outputs": [],
   "source": [
    "saver = tf.train.Saver()"
   ]
  },
  {
   "cell_type": "code",
   "execution_count": 7,
   "metadata": {},
   "outputs": [
    {
     "name": "stdout",
     "output_type": "stream",
     "text": [
      "INFO:tensorflow:Restoring parameters from .\\model\\model.ckpt-10000\n",
      "After 10000 training step(s), validation accuracy = 0.8118279576301575\n"
     ]
    }
   ],
   "source": [
    "gpu_options = tf.GPUOptions(per_process_gpu_memory_fraction=0.333)\n",
    "validate_feed = {X: x_vals_eval, Y: y_vals_eval, train_b: [0]}\n",
    "with tf.Session(config=tf.ConfigProto(gpu_options=gpu_options)) as sess:\n",
    "    ckpt = tf.train.get_checkpoint_state(\".\\model\")\n",
    "    if ckpt and ckpt.model_checkpoint_path:\n",
    "        saver.restore(sess, ckpt.model_checkpoint_path)\n",
    "        global_step = ckpt.model_checkpoint_path.split('/')[-1].split('-')[-1]\n",
    "        accuracy_score = sess.run(accuracy, feed_dict=validate_feed)\n",
    "        print(\"After {} training step(s), validation accuracy = {}\".format(global_step, accuracy_score))\n",
    "    else:\n",
    "        print(\"No checkpoint file found\")"
   ]
  },
  {
   "cell_type": "code",
   "execution_count": 8,
   "metadata": {},
   "outputs": [],
   "source": [
    "def print_board(board):\n",
    "    symbols = ['O', ' ', 'X']\n",
    "    board_plus1 = [int(x) + 1 for x in board]\n",
    "    print(' ' + symbols[board_plus1[0]] + ' | ' + symbols[board_plus1[1]] + ' | ' + symbols[board_plus1[2]])\n",
    "    print('____________')\n",
    "    print(' ' + symbols[board_plus1[3]] + ' | ' + symbols[board_plus1[4]] + ' | ' + symbols[board_plus1[5]])\n",
    "    print('____________')\n",
    "    print(' ' + symbols[board_plus1[6]] + ' | ' + symbols[board_plus1[7]] + ' | ' + symbols[board_plus1[8]])"
   ]
  },
  {
   "cell_type": "code",
   "execution_count": 9,
   "metadata": {},
   "outputs": [],
   "source": [
    "def check(board):\n",
    "    wins = [[0, 1, 2], [3, 4, 5], [6, 7, 8], [1, 4, 7], [2, 5, 8], [0, 4, 8], [2, 4, 6]]\n",
    "    for i in range(len(wins)):\n",
    "        if board[wins[i][0]] == board[wins[i][1]] == board[wins[i][2]] == 1:\n",
    "            return 1\n",
    "        elif board[wins[i][0]] == board[wins[i][1]] == board[wins[i][2]] == -1:\n",
    "            return 1\n",
    "    return 0"
   ]
  },
  {
   "cell_type": "code",
   "execution_count": 13,
   "metadata": {},
   "outputs": [
    {
     "name": "stdout",
     "output_type": "stream",
     "text": [
      "Input index of your move (0-8): 5\n",
      "INFO:tensorflow:Restoring parameters from .\\model\\model.ckpt-10000\n",
      "Model has moved\n",
      "   |   | O\n",
      "____________\n",
      "   |   | X\n",
      "____________\n",
      "   |   |  \n",
      "Input index of your move (0-8): 4\n",
      "INFO:tensorflow:Restoring parameters from .\\model\\model.ckpt-10000\n",
      "Model has moved\n",
      "   |   | O\n",
      "____________\n",
      " O | X | X\n",
      "____________\n",
      "   |   |  \n",
      "Input index of your move (0-8): 7\n",
      "INFO:tensorflow:Restoring parameters from .\\model\\model.ckpt-10000\n",
      "Model has moved\n",
      " O |   | O\n",
      "____________\n",
      " O | X | X\n",
      "____________\n",
      "   | X |  \n",
      "Input index of your move (0-8): 1\n",
      "INFO:tensorflow:Restoring parameters from .\\model\\model.ckpt-10000\n",
      "Model has moved\n",
      " O | X | O\n",
      "____________\n",
      " O | X | X\n",
      "____________\n",
      "   | X | O\n",
      "Game Over!\n"
     ]
    }
   ],
   "source": [
    "game_tracker = [0.0, 0.0, 0.0, 0.0, 0.0, 0.0, 0.0, 0.0, 0.0]\n",
    "win_logical = False\n",
    "num_moves = 0\n",
    "while not win_logical:\n",
    "    player_index = input('Input index of your move (0-8): ')\n",
    "    num_moves += 1\n",
    "    game_tracker[int(player_index)] = 1\n",
    "    with tf.Session(config=tf.ConfigProto(gpu_options=gpu_options)) as sess:\n",
    "        ckpt = tf.train.get_checkpoint_state(\".\\model\")\n",
    "        if ckpt and ckpt.model_checkpoint_path:\n",
    "            saver.restore(sess, ckpt.model_checkpoint_path)\n",
    "            [potential_moves] = sess.run(model_output, feed_dict={X: [game_tracker], train_b: [0]})\n",
    "    allowed_moves = [ix for ix, x in enumerate(game_tracker) if x == 0.0]\n",
    "    model_move = np.argmax([x if ix in allowed_moves else -999.0 for ix, x in enumerate(potential_moves)])\n",
    "    \n",
    "    game_tracker[int(model_move)] = -1.0\n",
    "    print('Model has moved')\n",
    "    print_board(game_tracker)\n",
    "    if check(game_tracker) == 1 or num_moves >= 5:\n",
    "        print('Game Over!')\n",
    "        win_logical = True"
   ]
  },
  {
   "cell_type": "code",
   "execution_count": null,
   "metadata": {},
   "outputs": [],
   "source": []
  }
 ],
 "metadata": {
  "kernelspec": {
   "display_name": "Python 3",
   "language": "python",
   "name": "python3"
  },
  "language_info": {
   "codemirror_mode": {
    "name": "ipython",
    "version": 3
   },
   "file_extension": ".py",
   "mimetype": "text/x-python",
   "name": "python",
   "nbconvert_exporter": "python",
   "pygments_lexer": "ipython3",
   "version": "3.6.7"
  }
 },
 "nbformat": 4,
 "nbformat_minor": 2
}
