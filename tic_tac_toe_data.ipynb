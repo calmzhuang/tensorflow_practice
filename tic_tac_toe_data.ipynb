{
 "cells": [
  {
   "cell_type": "code",
   "execution_count": 1,
   "metadata": {},
   "outputs": [
    {
     "name": "stderr",
     "output_type": "stream",
     "text": [
      "D:\\anaconda3\\lib\\site-packages\\h5py\\__init__.py:36: FutureWarning: Conversion of the second argument of issubdtype from `float` to `np.floating` is deprecated. In future, it will be treated as `np.float64 == np.dtype(float).type`.\n",
      "  from ._conv import register_converters as _register_converters\n"
     ]
    }
   ],
   "source": [
    "import csv\n",
    "import random\n",
    "import numpy as np\n",
    "import random"
   ]
  },
  {
   "cell_type": "code",
   "execution_count": 2,
   "metadata": {
    "collapsed": true
   },
   "outputs": [],
   "source": [
    "batch_size = 50"
   ]
  },
  {
   "cell_type": "code",
   "execution_count": 3,
   "metadata": {
    "collapsed": true
   },
   "outputs": [],
   "source": [
    "def get_symmetry(board, response, transformation):\n",
    "    if transformation == 'rotate180':\n",
    "        new_response = 8 - response\n",
    "        return board[::-1], new_response\n",
    "    elif transformation == 'rotate90':\n",
    "        new_response = [6, 3, 0, 7, 4, 1, 8, 5, 2].index(response)\n",
    "        tuple_board = list(zip(*[board[6: 9], board[3: 6], board[0: 3]]))\n",
    "        return [value for item in tuple_board for value in item], new_response\n",
    "    elif transformation == 'rotate270':\n",
    "        new_response = [2, 5, 8, 1, 4, 7, 0, 3, 6].index(response)\n",
    "        tuple_board = list(zip(*[board[0: 3], board[3: 6], board[6: 9]]))[::-1]\n",
    "        return [value for item in tuple_board for value in item], new_response\n",
    "    elif transformation == 'flip_v':\n",
    "        new_response = [6, 7, 8, 3, 4, 5, 0, 1, 2].index(response)\n",
    "        return board[6: 9] + board[3: 6] + board[0: 3], new_response\n",
    "    elif transformation == 'flip_h':\n",
    "        new_response = [2, 1, 0, 5, 4, 3, 8, 7, 6].index(response)\n",
    "        new_board = board[::-1]\n",
    "        return new_board[6: 9] + new_board[3: 6] + new_board[0: 3], new_response\n",
    "    elif transformation == 'original_v':\n",
    "        return board, response\n",
    "    else:\n",
    "        raise ValueError('Method not implemented.')"
   ]
  },
  {
   "cell_type": "code",
   "execution_count": 4,
   "metadata": {
    "collapsed": true
   },
   "outputs": [],
   "source": [
    "def get_moves_from_csv(csv_file):\n",
    "    moves = []\n",
    "    with open(csv_file, 'rt') as csvfile:\n",
    "        reader = csv.reader(csvfile, delimiter=',')\n",
    "        for row in reader:\n",
    "            moves.append(([int(x) for x in row[0: 9]], int(row[9])))\n",
    "    return moves"
   ]
  },
  {
   "cell_type": "code",
   "execution_count": null,
   "metadata": {
    "collapsed": true
   },
   "outputs": [],
   "source": []
  },
  {
   "cell_type": "code",
   "execution_count": 34,
   "metadata": {},
   "outputs": [],
   "source": [
    "moves = get_moves_from_csv('base_tic_tac_toe_moves.csv')\n",
    "train_set = []\n",
    "for move in moves:\n",
    "    board, response = move\n",
    "    possible_transforms = ['rotate90', 'rotate180', 'rotate270', 'flip_v', 'flip_h', 'original_v']\n",
    "    for possible_transform in possible_transforms:\n",
    "        board, response = get_symmetry(board, response, possible_transform)\n",
    "        train_set.append((board, response))"
   ]
  },
  {
   "cell_type": "code",
   "execution_count": 35,
   "metadata": {},
   "outputs": [
    {
     "name": "stdout",
     "output_type": "stream",
     "text": [
      "186\n"
     ]
    }
   ],
   "source": [
    "print(len(train_set))"
   ]
  },
  {
   "cell_type": "code",
   "execution_count": 36,
   "metadata": {},
   "outputs": [],
   "source": [
    "random.shuffle(train_set)"
   ]
  },
  {
   "cell_type": "code",
   "execution_count": 37,
   "metadata": {},
   "outputs": [
    {
     "name": "stdout",
     "output_type": "stream",
     "text": [
      "([1, -1, 0, -1, 0, 0, 0, 0, 0], 7)\n"
     ]
    }
   ],
   "source": [
    "print(train_set[0])"
   ]
  },
  {
   "cell_type": "code",
   "execution_count": 38,
   "metadata": {
    "collapsed": true
   },
   "outputs": [],
   "source": [
    "train_set_data = [x[0] + [x[1]] for x in train_set]"
   ]
  },
  {
   "cell_type": "code",
   "execution_count": 39,
   "metadata": {},
   "outputs": [
    {
     "name": "stdout",
     "output_type": "stream",
     "text": [
      "[[1, -1, 0, -1, 0, 0, 0, 0, 0, 7], [0, -1, 1, 1, 0, -1, -1, 0, 0, 7], [1, 0, 0, -1, -1, 0, 1, 0, -1, 5], [1, 0, 0, 0, -1, 0, 0, 0, -1, 6], [0, -1, 0, 0, -1, 0, 1, 1, -1, 0], [0, 0, -1, 1, 0, -1, 0, -1, 1, 0], [0, 0, 0, 0, 0, 0, 0, 0, -1, 4], [0, 1, 0, -1, 0, 0, 1, -1, -1, 2], [1, 0, -1, 0, -1, 0, 0, 0, 0, 6], [-1, -1, 1, 0, -1, 0, 0, 1, 0, 8], [-1, 0, 0, -1, -1, 1, 1, 0, 0, 8], [0, 0, 1, 0, -1, 0, -1, 0, 0, 0], [1, 0, 0, -1, 0, 0, 0, -1, 0, 2], [0, -1, 1, 0, -1, -1, 0, 1, 0, 3], [1, 0, 0, 0, -1, 0, -1, 0, 0, 2], [0, -1, 1, 0, -1, 0, -1, 1, 0, 8], [0, 0, 1, 0, -1, 0, -1, 0, 0, 8], [0, 0, 0, 0, -1, 0, 0, 0, 0, 6], [1, -1, 0, 0, -1, 0, -1, 1, 0, 2], [0, 0, -1, 1, 0, -1, 0, -1, 1, 0], [0, -1, 1, 1, -1, -1, 0, 0, 0, 7], [0, 0, -1, 0, -1, 0, 1, 0, 0, 8], [0, 0, 0, -1, 0, 1, 1, -1, -1, 1], [1, -1, 0, 0, -1, 0, 0, 0, 0, 7], [1, -1, 0, 0, -1, 0, 0, 0, 0, 7], [0, 0, 1, 0, -1, 0, 0, 0, -1, 0], [0, 1, 0, 0, -1, 0, -1, -1, 1, 2], [0, -1, 1, -1, -1, 0, 0, 1, 0, 5], [-1, 0, 0, 0, 1, 0, 0, 0, -1, 3], [0, -1, 1, 0, -1, 0, 0, 1, -1, 0], [0, -1, 0, 0, -1, 0, 1, 0, 0, 7], [0, 0, 1, 0, -1, -1, 0, 0, 0, 3], [0, 0, 1, 1, -1, -1, 0, -1, 0, 1], [0, 0, -1, -1, 1, 0, 1, -1, 0, 0], [0, 0, 1, 0, 0, -1, -1, 0, 0, 4], [-1, 0, 0, 0, 1, 0, 0, 0, -1, 1], [0, -1, 1, 0, 1, -1, -1, 0, 0, 8], [0, 0, -1, 0, 1, 0, -1, 0, 0, 5], [0, -1, 1, 0, -1, 0, 0, 0, 0, 7], [0, -1, 0, 0, 0, 0, 0, 0, 0, 2], [-1, 0, 0, 0, 0, 0, 0, 0, 0, 4], [0, 0, 0, 0, 0, 0, -1, 0, 0, 4], [0, 0, 1, 1, -1, -1, 0, 0, -1, 0], [0, -1, 1, 0, 0, -1, 0, 0, 0, 7], [1, 0, 0, -1, 0, 0, -1, 0, 0, 1], [0, -1, 1, -1, 0, 0, 0, 0, 0, 8], [0, 0, 0, -1, 0, 0, 0, 0, 0, 8], [-1, 0, 0, 0, -1, 0, 0, 0, 1, 6], [0, 0, -1, 0, 0, 0, 0, 0, 0, 4], [0, 0, 1, 0, 0, -1, 0, -1, 0, 0], [1, -1, -1, 0, -1, 0, 0, 1, 0, 6], [1, -1, 0, 0, -1, -1, 0, 1, 0, 3], [0, 0, -1, -1, 0, 0, 1, 0, 0, 4], [0, 0, -1, 0, -1, 0, 1, 0, 0, 0], [1, 0, 0, -1, -1, 1, 0, 0, -1, 2], [0, 0, -1, -1, 0, 1, 1, -1, 0, 1], [1, -1, 0, -1, -1, 0, 0, 1, 0, 5], [0, 0, 0, 0, 0, 0, 1, -1, -1, 3], [-1, 0, 0, 0, 1, 0, 0, 0, -1, 7], [-1, 0, 0, 0, 1, -1, 0, -1, 1, 6], [0, 0, 0, 0, -1, 0, 1, 0, -1, 0], [0, 0, -1, 0, -1, 0, 1, 0, 0, 8], [1, 0, -1, -1, -1, 0, 1, 0, 0, 8], [0, 1, -1, 0, -1, 0, 1, -1, 0, 0], [0, 0, -1, 0, -1, 0, 1, -1, 1, 1], [-1, 0, 0, 0, 1, 0, 0, -1, 0, 8], [-1, -1, 1, 0, 0, -1, 0, 1, 0, 6], [-1, 0, 0, 1, -1, -1, 0, 0, 1, 6], [1, -1, 1, 0, -1, 0, 0, 0, -1, 7], [1, 0, 0, -1, 0, 0, 0, -1, 0, 2], [1, -1, 0, 0, 0, 0, 0, 0, -1, 4], [0, 0, 0, -1, 0, 0, 0, 0, 0, 6], [0, 0, -1, 0, -1, 0, 0, 0, 1, 6], [1, 0, 0, 0, -1, -1, 0, 0, 0, 3], [1, -1, 0, -1, 1, 0, 0, 0, -1, 2], [0, 0, 0, -1, -1, 0, 1, 0, 0, 5], [-1, 0, 0, 0, -1, 0, 0, 0, 1, 6], [0, 0, 0, 0, 0, 0, 0, -1, 0, 0], [-1, -1, 1, 1, 0, -1, 0, 0, 0, 7], [0, 0, 0, 0, -1, 0, 0, 0, 0, 2], [0, 0, 0, -1, -1, 1, 1, 0, -1, 0], [0, -1, 0, 0, 0, 0, 0, 0, 0, 0], [-1, 0, 0, 0, -1, 0, 1, 0, 0, 8], [0, 0, 0, -1, 0, 0, 1, -1, 0, 1], [0, 0, 0, 0, 0, -1, 1, -1, 0, 0], [-1, 1, -1, 0, 1, 0, 0, 1, 0, 6], [0, 0, -1, -1, -1, 1, 1, 0, 0, 8], [0, -1, 0, 0, 1, 0, 0, 0, -1, 0], [-1, 0, 1, 0, -1, 0, 0, 0, 0, 8], [0, 0, 1, -1, -1, 1, 0, 0, -1, 0], [1, 0, 0, -1, -1, 0, 1, 0, -1, 5], [-1, 0, 1, 0, -1, -1, 0, 0, 1, 3], [1, -1, 1, 0, -1, 0, -1, 0, 0, 7], [0, 0, 0, 0, 0, -1, 0, 0, 0, 6], [-1, 0, 1, 0, -1, 0, 0, 0, 0, 8], [1, -1, 0, -1, 0, 1, -1, 0, 0, 8], [0, 0, 0, 0, -1, 0, 0, 0, 0, 0], [-1, -1, 1, 0, 0, 0, 0, 0, 0, 5], [0, 0, 0, 1, 0, -1, -1, -1, 1, 1], [0, -1, 0, -1, -1, 1, 1, 0, 0, 7], [0, 0, 0, 0, 0, 0, -1, -1, 1, 5], [-1, 0, 0, 1, -1, -1, 0, 0, 1, 6], [0, 0, -1, 0, 1, 0, -1, 0, 0, 3], [-1, 0, 1, 0, -1, -1, 0, 0, 1, 6], [0, 0, 0, 0, -1, 0, 0, -1, 1, 1], [0, -1, 0, 0, 0, -1, 0, 0, 1, 6], [-1, 0, 0, -1, 0, 1, 1, -1, 0, 2], [0, 0, 0, 0, -1, 0, 0, 0, 0, 8], [1, -1, 0, -1, 0, 0, 0, 0, 0, 5], [0, 0, 0, 0, 0, 0, 0, -1, 0, 8], [1, -1, -1, 0, -1, 0, 0, 1, 0, 6], [1, -1, 0, -1, 0, 0, 0, 1, -1, 5], [-1, 0, 0, 0, -1, 0, 0, 0, 1, 2], [0, 0, 1, 0, 0, -1, -1, 0, 0, 4], [0, 1, 0, 0, 1, 0, -1, 1, -1, 0], [0, 0, -1, -1, 1, 0, 0, 0, 0, 6], [0, 0, -1, 0, -1, 0, 1, -1, 1, 1], [1, -1, 0, 0, -1, -1, 0, 1, 0, 3], [1, -1, 0, 0, -1, 0, -1, 1, 0, 2], [0, -1, 1, 0, 0, -1, 0, 0, 0, 7], [0, 0, 0, 0, -1, 0, 0, 0, 0, 0], [0, 0, 0, -1, -1, 0, 0, 0, 1, 5], [0, 0, 0, 0, 0, -1, 0, -1, 1, 3], [-1, 0, 0, 0, -1, 0, 1, -1, 1, 2], [0, 0, -1, 0, 0, 0, 0, 0, 0, 4], [0, 0, -1, 1, 1, 1, 0, 0, -1, 6], [1, 0, 0, 0, -1, 0, 0, 0, -1, 6], [1, 0, 0, 0, -1, 0, -1, 0, 0, 2], [0, 0, -1, 0, 0, 0, 0, -1, 1, 4], [0, 0, -1, 0, 0, -1, 0, 0, 1, 7], [0, 1, -1, 0, 0, -1, 0, -1, 1, 3], [0, 0, 1, 0, -1, -1, -1, 0, 1, 0], [1, -1, 0, -1, 0, 0, -1, 1, 0, 5], [-1, 0, 1, 0, -1, -1, 0, 0, 1, 3], [0, 0, 1, 0, -1, -1, -1, 0, 1, 3], [0, 0, 1, 0, -1, 0, 0, -1, 0, 1], [0, -1, 1, 0, 1, -1, -1, 0, 0, 8], [1, -1, 1, 0, -1, 0, 0, 0, -1, 6], [0, 0, 0, -1, 0, 0, 1, 0, -1, 4], [0, 0, 0, -1, 0, 0, 0, 0, 0, 2], [-1, 0, 0, 0, 0, 0, 0, 0, 0, 4], [-1, 0, 1, 1, -1, -1, 0, 0, 0, 8], [1, -1, 1, 0, -1, 0, -1, 0, 0, 7], [0, -1, 0, 0, 1, 0, -1, 0, 0, 2], [0, 0, 0, -1, -1, 1, 1, -1, 0, 1], [0, 0, 0, 0, 0, 0, 1, -1, -1, 3], [-1, 0, 0, 1, 1, 1, -1, 0, 0, 2], [1, 0, -1, -1, -1, 0, 1, 0, 0, 8], [-1, 1, -1, 0, 1, 0, 0, 1, 0, 8], [1, 0, 0, -1, -1, 0, 1, 0, -1, 5], [-1, 1, 0, 0, 0, -1, 0, -1, 1, 3], [-1, 0, 0, 0, 0, 0, 0, -1, 1, 4], [-1, 1, 0, 0, 0, -1, 0, -1, 1, 3], [1, -1, 0, -1, -1, 0, 0, 1, 0, 5], [0, 0, -1, 0, 1, 0, -1, 0, 0, 5], [0, 1, -1, 0, -1, 0, 0, -1, 1, 6], [1, 0, 0, 1, -1, -1, -1, 0, 0, 2], [0, 1, 0, -1, -1, 0, 0, -1, 1, 5], [0, -1, 0, 0, 0, 0, 0, 0, 0, 8], [1, 0, 0, -1, 0, 0, 0, 0, -1, 4], [0, 0, 0, -1, 0, 1, 1, -1, -1, 1], [1, -1, 0, 0, 0, 0, -1, 0, 0, 4], [0, 0, 1, -1, -1, 0, 0, 0, 0, 5], [1, 0, 0, 1, -1, -1, -1, 0, 0, 2], [0, 0, 0, 0, 0, -1, 0, 0, 0, 2], [0, 1, -1, -1, 0, 0, 1, -1, 0, 5], [0, 0, -1, 0, 0, 0, 0, -1, 1, 4], [-1, 0, 1, 0, 0, -1, 0, 0, 0, 4], [0, 0, 0, 0, -1, 0, -1, 0, 1, 2], [0, 0, 0, 0, 1, -1, -1, 0, 0, 2], [1, 0, 0, 0, -1, -1, 0, 0, 0, 3], [1, -1, 0, -1, 1, 0, 0, 0, -1, 6], [0, 0, 1, 0, -1, 0, -1, 0, 0, 8], [-1, 1, -1, 0, 1, 0, 0, 1, 0, 8], [-1, 0, 0, 0, 0, 0, 1, -1, 0, 4], [0, 0, 0, 0, -1, 0, 0, 0, 0, 2], [0, 0, 0, 0, 0, -1, 0, 0, 0, 6], [0, -1, 0, 0, 1, 0, 0, 0, -1, 0], [1, 0, 0, 0, -1, 0, 0, 0, -1, 2], [0, -1, 0, 0, 0, 0, 0, 0, 0, 0], [0, 0, -1, -1, -1, 1, 0, 0, 1, 6], [0, 0, 1, 0, -1, 0, 0, 0, -1, 0], [1, 0, -1, 0, -1, 0, 0, 0, 0, 6], [0, 1, 0, 0, -1, -1, 0, -1, 1, 3], [-1, 1, 1, 0, -1, 0, 0, -1, 0, 8], [1, -1, 1, 0, -1, 0, -1, 0, 0, 7]]\n"
     ]
    }
   ],
   "source": [
    "print(train_set_data)"
   ]
  },
  {
   "cell_type": "code",
   "execution_count": 41,
   "metadata": {},
   "outputs": [],
   "source": [
    "with open(\"base_tic_tac_toe_data.csv\", \"w\", newline='') as f:\n",
    "    # with open(birth_weight_file, \"w\") as f:\n",
    "        writer = csv.writer(f)\n",
    "        writer.writerows(train_set_data)\n",
    "        f.close()"
   ]
  },
  {
   "cell_type": "code",
   "execution_count": null,
   "metadata": {
    "collapsed": true
   },
   "outputs": [],
   "source": []
  }
 ],
 "metadata": {
  "kernelspec": {
   "display_name": "Python 3",
   "language": "python",
   "name": "python3"
  },
  "language_info": {
   "codemirror_mode": {
    "name": "ipython",
    "version": 3
   },
   "file_extension": ".py",
   "mimetype": "text/x-python",
   "name": "python",
   "nbconvert_exporter": "python",
   "pygments_lexer": "ipython3",
   "version": "3.6.3"
  }
 },
 "nbformat": 4,
 "nbformat_minor": 2
}
