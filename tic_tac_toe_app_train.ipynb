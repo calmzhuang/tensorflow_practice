{
 "cells": [
  {
   "cell_type": "code",
   "execution_count": 1,
   "metadata": {},
   "outputs": [],
   "source": [
    "import tensorflow as tf\n",
    "import matplotlib.pyplot as plt\n",
    "import csv\n",
    "import numpy as np"
   ]
  },
  {
   "cell_type": "code",
   "execution_count": 2,
   "metadata": {},
   "outputs": [],
   "source": [
    "def get_moves_from_csv(csv_file):\n",
    "    moves = []\n",
    "    with open(csv_file, 'rt') as csvfile:\n",
    "        reader = csv.reader(csvfile, delimiter=',')\n",
    "        for row in reader:\n",
    "            moves.append([[int(x) for x in row[0: 9]], int(row[9])])\n",
    "    return moves"
   ]
  },
  {
   "cell_type": "code",
   "execution_count": 3,
   "metadata": {},
   "outputs": [],
   "source": [
    "moves = get_moves_from_csv('base_tic_tac_toe_data.csv')"
   ]
  },
  {
   "cell_type": "code",
   "execution_count": 4,
   "metadata": {},
   "outputs": [
    {
     "name": "stdout",
     "output_type": "stream",
     "text": [
      "[[1, -1, 0, -1, 0, 0, 0, 0, 0], 7]\n"
     ]
    }
   ],
   "source": [
    "print(moves[0])"
   ]
  },
  {
   "cell_type": "code",
   "execution_count": 5,
   "metadata": {},
   "outputs": [],
   "source": [
    "moves = np.array(moves)\n",
    "train_indices = np.array(np.random.choice(len(moves), round(len(moves) * 0.8), replace=False))\n",
    "test_indices = np.array(list(set(range(len(moves))) - set(train_indices)))\n",
    "train_set = moves[train_indices]\n",
    "test_set = moves[test_indices]\n",
    "x_vals_train = np.array([x[0] for x in train_set])\n",
    "y_vals_train = np.array([x[1] for x in train_set])\n",
    "x_vals_test = np.array([x[0] for x in test_set])\n",
    "y_vals_test = np.array([x[1] for x in test_set])"
   ]
  },
  {
   "cell_type": "code",
   "execution_count": 6,
   "metadata": {},
   "outputs": [
    {
     "name": "stdout",
     "output_type": "stream",
     "text": [
      "149\n"
     ]
    }
   ],
   "source": [
    "print(len(y_vals_train))"
   ]
  },
  {
   "cell_type": "code",
   "execution_count": 7,
   "metadata": {},
   "outputs": [],
   "source": [
    "def init_weights(shape):\n",
    "    return tf.Variable(tf.random_normal(shape), dtype=tf.float32)\n",
    "\n",
    "def model(X, A1, A2, A3, bias1, bias2, bias3, train_b):\n",
    "    layer1 = tf.nn.relu(tf.add(tf.matmul(X, A1), bias1))\n",
    "    if train_b[0] == 1:\n",
    "        layer1 = tf.nn.dropout(layer1, 0.5)\n",
    "    layer2 = tf.nn.relu(tf.add(tf.matmul(layer1, A2), bias2))\n",
    "    if train_b[0] == 1:\n",
    "        layer2 = tf.nn.dropout(layer2, 0.5)\n",
    "    layer3 = tf.add(tf.matmul(layer2, A3), bias3)\n",
    "    return layer3"
   ]
  },
  {
   "cell_type": "code",
   "execution_count": 8,
   "metadata": {},
   "outputs": [],
   "source": [
    "X = tf.placeholder(dtype=tf.float32, shape=[None, 9])\n",
    "Y = tf.placeholder(dtype=tf.int64, shape=[None])\n",
    "train_b = tf.placeholder(dtype=tf.int32, shape=[1])\n",
    "A1 = init_weights([9, 27])\n",
    "bias1 = init_weights([27])\n",
    "A2 = init_weights([27, 18])\n",
    "bias2 = init_weights([18])\n",
    "A3 = init_weights([18, 9])\n",
    "bias3 = init_weights([9])\n",
    "model_output = model(X, A1, A2, A3, bias1, bias2, bias3, train_b)"
   ]
  },
  {
   "cell_type": "code",
   "execution_count": 9,
   "metadata": {},
   "outputs": [],
   "source": [
    "loss = tf.reduce_mean(tf.nn.sparse_softmax_cross_entropy_with_logits(logits=model_output, labels=Y))\n",
    "train_step = tf.train.GradientDescentOptimizer(0.005).minimize(loss)\n",
    "prediction = tf.argmax(model_output, 1)"
   ]
  },
  {
   "cell_type": "code",
   "execution_count": 10,
   "metadata": {},
   "outputs": [],
   "source": [
    "accuracy = tf.equal(Y, prediction)"
   ]
  },
  {
   "cell_type": "code",
   "execution_count": 11,
   "metadata": {},
   "outputs": [
    {
     "name": "stdout",
     "output_type": "stream",
     "text": [
      "iteration 0 Loss: 16.536526\n",
      "iteration 500 Loss: 1.445773\n",
      "iteration 1000 Loss: 1.3784667\n",
      "iteration 1500 Loss: 1.0490673\n",
      "iteration 2000 Loss: 1.0013657\n",
      "iteration 2500 Loss: 0.76999474\n",
      "iteration 3000 Loss: 0.5732273\n",
      "iteration 3500 Loss: 0.74816763\n",
      "iteration 4000 Loss: 0.41952688\n",
      "iteration 4500 Loss: 0.5666405\n",
      "iteration 5000 Loss: 0.5110402\n",
      "iteration 5500 Loss: 0.49605724\n",
      "iteration 6000 Loss: 0.5493804\n",
      "iteration 6500 Loss: 0.37562153\n",
      "iteration 7000 Loss: 0.45283455\n",
      "iteration 7500 Loss: 0.31682223\n",
      "iteration 8000 Loss: 0.41768396\n",
      "iteration 8500 Loss: 0.2686525\n",
      "iteration 9000 Loss: 0.1924243\n",
      "iteration 9500 Loss: 0.34330407\n"
     ]
    }
   ],
   "source": [
    "gpu_options = tf.GPUOptions(per_process_gpu_memory_fraction=0.333)  \n",
    "sess = tf.Session(config=tf.ConfigProto(gpu_options=gpu_options))\n",
    "init = tf.global_variables_initializer()\n",
    "sess.run(init)\n",
    "loss_vec = []\n",
    "loss_vec_test = []\n",
    "acc_train = []\n",
    "acc_test = []\n",
    "for i in range(10000):\n",
    "    rand_indices = np.random.choice(range(len(train_set)), 32, replace=False)\n",
    "    x_input = x_vals_train[rand_indices]\n",
    "    y_target = y_vals_train[rand_indices]\n",
    "    sess.run(train_step, feed_dict={X: x_input, Y: y_target, train_b: [1]})\n",
    "    temp_loss = sess.run(loss, feed_dict={X: x_input, Y: y_target})\n",
    "    loss_vec.append(temp_loss)\n",
    "    temp_loss_test = sess.run(loss, feed_dict={X: x_vals_test, Y: y_vals_test, train_b: [0]})\n",
    "    loss_vec_test.append(temp_loss_test)\n",
    "    temp_acc_train = np.sum(np.array(sess.run(accuracy, feed_dict={X: x_vals_train, Y: y_vals_train, train_b: [0]})).astype(np.float32))/y_vals_train.shape\n",
    "    temp_acc_test = np.sum(np.array(sess.run(accuracy, feed_dict={X: x_vals_test, Y: y_vals_test, train_b: [0]})).astype(np.float32))/y_vals_test.shape\n",
    "    acc_train.append(temp_acc_train)\n",
    "    acc_test.append(temp_acc_test)\n",
    "    if i % 500 == 0:\n",
    "        print('iteration ' + str(i) + ' Loss: ' + str(temp_loss))"
   ]
  },
  {
   "cell_type": "code",
   "execution_count": 12,
   "metadata": {},
   "outputs": [
    {
     "data": {
      "image/png": "[encoded data removed]",
      "text/plain": [
       "<Figure size 432x288 with 1 Axes>"
      ]
     },
     "metadata": {
      "needs_background": "light"
     },
     "output_type": "display_data"
    },
    {
     "data": {
      "image/png": "[encoded data removed]",
      "text/plain": [
       "<Figure size 432x288 with 1 Axes>"
      ]
     },
     "metadata": {
      "needs_background": "light"
     },
     "output_type": "display_data"
    }
   ],
   "source": [
    "plt.plot(loss_vec, 'k-', label='Loss')\n",
    "plt.plot(loss_vec_test, 'r--', label='Loss')\n",
    "plt.title('Loss (MSE) per Generation')\n",
    "plt.xlabel('Generation')\n",
    "plt.ylabel('Loss')\n",
    "plt.show()\n",
    "plt.plot(acc_train, 'k-', label='Acc')\n",
    "plt.plot(acc_test, 'r--', label='Acc')\n",
    "plt.title('Accuaracy (MSE) per Generation')\n",
    "plt.xlabel('Generation')\n",
    "plt.ylabel('Accuaracy')\n",
    "plt.show()"
   ]
  },
  {
   "cell_type": "code",
   "execution_count": 13,
   "metadata": {},
   "outputs": [
    {
     "name": "stdout",
     "output_type": "stream",
     "text": [
      "[0.90604027]\n"
     ]
    }
   ],
   "source": [
    "print(np.sum(np.array(sess.run(accuracy, feed_dict={X: x_vals_train, Y: y_vals_train, train_b: [0]})).astype(np.float32))/y_vals_train.shape)"
   ]
  },
  {
   "cell_type": "code",
   "execution_count": 14,
   "metadata": {},
   "outputs": [
    {
     "name": "stdout",
     "output_type": "stream",
     "text": [
      "[0.43243243]\n"
     ]
    }
   ],
   "source": [
    "print(np.sum(np.array(sess.run(accuracy, feed_dict={X: x_vals_test, Y: y_vals_test, train_b: [0]})).astype(np.float32))/y_vals_test.shape)"
   ]
  },
  {
   "cell_type": "code",
   "execution_count": 15,
   "metadata": {},
   "outputs": [],
   "source": [
    "saver = tf.train.Saver()"
   ]
  },
  {
   "cell_type": "code",
   "execution_count": 16,
   "metadata": {},
   "outputs": [
    {
     "data": {
      "text/plain": [
       "'.\\\\model\\\\model.ckpt-10000'"
      ]
     },
     "execution_count": 16,
     "metadata": {},
     "output_type": "execute_result"
    }
   ],
   "source": [
    "import os\n",
    "saver.save(sess, os.path.join(\".\\model\", \"model.ckpt\"), global_step=10000)"
   ]
  },
  {
   "cell_type": "code",
   "execution_count": null,
   "metadata": {},
   "outputs": [],
   "source": []
  }
 ],
 "metadata": {
  "kernelspec": {
   "display_name": "Python 3",
   "language": "python",
   "name": "python3"
  },
  "language_info": {
   "codemirror_mode": {
    "name": "ipython",
    "version": 3
   },
   "file_extension": ".py",
   "mimetype": "text/x-python",
   "name": "python",
   "nbconvert_exporter": "python",
   "pygments_lexer": "ipython3",
   "version": "3.6.7"
  }
 },
 "nbformat": 4,
 "nbformat_minor": 2
}
