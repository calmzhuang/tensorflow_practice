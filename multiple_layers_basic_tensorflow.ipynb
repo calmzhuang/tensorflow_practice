{
 "cells": [
  {
   "cell_type": "code",
   "execution_count": 1,
   "metadata": {},
   "outputs": [
    {
     "name": "stderr",
     "output_type": "stream",
     "text": [
      "D:\\anaconda3\\lib\\site-packages\\h5py\\__init__.py:36: FutureWarning: Conversion of the second argument of issubdtype from `float` to `np.floating` is deprecated. In future, it will be treated as `np.float64 == np.dtype(float).type`.\n",
      "  from ._conv import register_converters as _register_converters\n"
     ]
    }
   ],
   "source": [
    "import tensorflow as tf\n",
    "import matplotlib.pyplot as plt\n",
    "import requests\n",
    "import numpy as np\n",
    "sess = tf.Session()"
   ]
  },
  {
   "cell_type": "code",
   "execution_count": 2,
   "metadata": {
    "collapsed": true
   },
   "outputs": [],
   "source": [
    "with open('lowbwt.txt', 'r') as file:\n",
    "    birth_data = [[float(data) for data in line.strip('\\n').split()] for line in file.readlines()]"
   ]
  },
  {
   "cell_type": "code",
   "execution_count": 3,
   "metadata": {
    "collapsed": true
   },
   "outputs": [],
   "source": [
    "birth_header = [\"ID\", \"LBW\", \"AGE\", \"LWT\", \"RACE\", \"SMOKE\", \"PTL\", \"HYPER\", \"URIRR\", \"PVFT\", \"BWT\"]\n",
    "cols_of_interest = ['AGE', 'LWT', 'RACE', 'SMOKE', 'PTL', 'HYPER', 'URIRR', 'PVFT']\n",
    "x_vals = np.array([[x[i] for i, val in enumerate(birth_header) if val in cols_of_interest] for x in birth_data])\n",
    "y_vals = np.array([y[10] for y in birth_data])"
   ]
  },
  {
   "cell_type": "code",
   "execution_count": 4,
   "metadata": {
    "collapsed": true
   },
   "outputs": [],
   "source": [
    "seed = 3\n",
    "tf.set_random_seed(seed)\n",
    "np.random.seed(seed)\n",
    "batch_size = 64"
   ]
  },
  {
   "cell_type": "code",
   "execution_count": 5,
   "metadata": {},
   "outputs": [
    {
     "name": "stdout",
     "output_type": "stream",
     "text": [
      "<class 'numpy.int32'>\n"
     ]
    }
   ],
   "source": [
    "train_indices = np.random.choice(len(x_vals), round(len(x_vals) * 0.8), replace=False)\n",
    "test_indices = np.array(list(set(range(len(x_vals))) - set(train_indices)))\n",
    "print(type(train_indices[0]))"
   ]
  },
  {
   "cell_type": "code",
   "execution_count": 6,
   "metadata": {},
   "outputs": [],
   "source": [
    "x_vals_train = x_vals[train_indices]\n",
    "x_vals_test = x_vals[test_indices]\n",
    "y_vals_train = y_vals[train_indices]\n",
    "y_vals_test = y_vals[test_indices]"
   ]
  },
  {
   "cell_type": "code",
   "execution_count": 7,
   "metadata": {
    "collapsed": true
   },
   "outputs": [],
   "source": [
    "def normalize_cols(m):\n",
    "    col_max = m.max(axis=0)\n",
    "    col_min = m.min(axis=0)\n",
    "    return (m - col_min) / (col_max - col_min)\n",
    "\n",
    "x_vals_train = np.nan_to_num(normalize_cols(x_vals_train))\n",
    "x_vals_test = np.nan_to_num(normalize_cols(x_vals_test))"
   ]
  },
  {
   "cell_type": "code",
   "execution_count": 8,
   "metadata": {
    "collapsed": true
   },
   "outputs": [],
   "source": [
    "def init_weight(shape, st_dev):\n",
    "    weight = tf.Variable(tf.random_normal(shape=shape, stddev=st_dev))\n",
    "    return weight\n",
    "\n",
    "def init_bias(shape, st_dev):\n",
    "    bias = tf.Variable(tf.random_normal(shape, stddev=st_dev))\n",
    "    return bias"
   ]
  },
  {
   "cell_type": "code",
   "execution_count": 9,
   "metadata": {
    "collapsed": true
   },
   "outputs": [],
   "source": [
    "x_data = tf.placeholder(shape=[None, 8], dtype=tf.float32)\n",
    "y_target = tf.placeholder(shape=[None, 1], dtype=tf.float32)"
   ]
  },
  {
   "cell_type": "code",
   "execution_count": 10,
   "metadata": {
    "collapsed": true
   },
   "outputs": [],
   "source": [
    "def fully_connected(input_layer, weights, biases):\n",
    "    layer = tf.add(tf.matmul(input_layer, weights), biases)\n",
    "    return tf.nn.relu(layer)"
   ]
  },
  {
   "cell_type": "code",
   "execution_count": 11,
   "metadata": {},
   "outputs": [
    {
     "name": "stdout",
     "output_type": "stream",
     "text": [
      "WARNING:tensorflow:From D:\\anaconda3\\lib\\site-packages\\tensorflow\\python\\framework\\op_def_library.py:263: colocate_with (from tensorflow.python.framework.ops) is deprecated and will be removed in a future version.\n",
      "Instructions for updating:\n",
      "Colocations handled automatically by placer.\n"
     ]
    }
   ],
   "source": [
    "weight1 = init_weight([8, 25], 10.0)\n",
    "biases1 = init_bias([25], 10.0)\n",
    "layer1 = fully_connected(x_data, weight1, biases1)\n",
    "weight2 = init_weight([25, 10], 10.0)\n",
    "biases2 = init_bias([10], 10.0)\n",
    "layer2 = fully_connected(layer1, weight2, biases2)\n",
    "weight3 = init_weight([10, 3], 10.0)\n",
    "biases3 = init_bias([3], 10.0)\n",
    "layer3 = fully_connected(layer2, weight3, biases3)\n",
    "weight4 = init_weight([3, 1], 10.0)\n",
    "biases4 = init_bias([1], 10.0)\n",
    "layer4 = tf.add(tf.matmul(layer3, weight4), biases4)"
   ]
  },
  {
   "cell_type": "code",
   "execution_count": 12,
   "metadata": {
    "collapsed": true
   },
   "outputs": [],
   "source": [
    "loss = tf.reduce_mean(tf.abs(tf.subtract(y_target, layer4)))\n",
    "my_opt = tf.train.AdamOptimizer(0.05)\n",
    "train_step = my_opt.minimize(loss)\n",
    "init = tf.global_variables_initializer()\n",
    "sess.run(init)"
   ]
  },
  {
   "cell_type": "code",
   "execution_count": 13,
   "metadata": {},
   "outputs": [
    {
     "name": "stdout",
     "output_type": "stream",
     "text": [
      "Step 50 #  train_loss: 1704.045166015625\n",
      "Step 100 #  train_loss: 1002.7144165039062\n",
      "Step 150 #  train_loss: 811.1849365234375\n",
      "Step 200 #  train_loss: 747.984619140625\n",
      "Step 250 #  train_loss: 710.2342529296875\n",
      "Step 300 #  train_loss: 652.0809936523438\n",
      "Step 350 #  train_loss: 617.91357421875\n",
      "Step 400 #  train_loss: 594.2630615234375\n",
      "Step 450 #  train_loss: 568.7427978515625\n",
      "Step 500 #  train_loss: 555.388671875\n"
     ]
    }
   ],
   "source": [
    "train_loss_vec = []\n",
    "test_loss_vec = []\n",
    "y_vals_train = np.transpose([y_vals_train])\n",
    "y_vals_test = np.transpose([y_vals_test])\n",
    "for i in range(500):\n",
    "    rand_index = np.random.choice(len(x_vals_train), size=batch_size, replace=False)\n",
    "    rand_x = x_vals_train[rand_index]\n",
    "    rand_y = y_vals_train[rand_index]\n",
    "    sess.run(train_step, feed_dict={x_data: rand_x, y_target: rand_y})\n",
    "    temp_train_loss = sess.run(loss, feed_dict={x_data: x_vals_train, y_target: y_vals_train})\n",
    "    temp_test_loss = sess.run(loss, feed_dict={x_data: x_vals_test, y_target: y_vals_test})\n",
    "    train_loss_vec.append(temp_train_loss)\n",
    "    test_loss_vec.append(temp_test_loss)\n",
    "    if (i + 1) % 50 == 0:\n",
    "        print(\"Step {} #  train_loss: {}\".format((i + 1), temp_train_loss))"
   ]
  },
  {
   "cell_type": "code",
   "execution_count": 15,
   "metadata": {},
   "outputs": [
    {
     "data": {
      "image/png": "[encoded data removed]",
      "text/plain": [
       "<Figure size 432x288 with 1 Axes>"
      ]
     },
     "metadata": {},
     "output_type": "display_data"
    }
   ],
   "source": [
    "plt.plot(train_loss_vec, 'k-', label='Train Loss')\n",
    "plt.plot(test_loss_vec, 'r--', label='Test Loss')\n",
    "plt.title('Loss (MSE) per Generation')\n",
    "plt.xlabel('Generation')\n",
    "plt.ylabel('Loss')\n",
    "plt.legend(loc='upper right')\n",
    "plt.show()"
   ]
  },
  {
   "cell_type": "code",
   "execution_count": 16,
   "metadata": {},
   "outputs": [
    {
     "name": "stdout",
     "output_type": "stream",
     "text": [
      "Train accuracy is 74.17218543046357\n",
      "Test accuracy is 60.526315789473685\n"
     ]
    }
   ],
   "source": [
    "train_pre = sess.run(layer4, feed_dict={x_data: x_vals_train})\n",
    "train_pre = np.array([1 if y < 2500 else 0 for y in train_pre])\n",
    "train_target = np.array([1 if y < 2500 else 0 for y in y_vals_train])\n",
    "train_result = (np.equal(train_pre, train_target)).astype(np.int32)\n",
    "train_acc = np.sum(train_result) / len(train_result) * 100\n",
    "test_pre = sess.run(layer4, feed_dict={x_data: x_vals_test})\n",
    "test_pre = np.array([1 if y < 2500 else 0 for y in test_pre])\n",
    "test_target = np.array([1 if y < 2500 else 0 for y in y_vals_test])\n",
    "test_result = (np.equal(test_pre, test_target)).astype(np.int32)\n",
    "test_acc = np.sum(test_result) / len(test_result) * 100\n",
    "print(\"Train accuracy is {}\".format(train_acc))\n",
    "print(\"Test accuracy is {}\".format(test_acc))"
   ]
  },
  {
   "cell_type": "code",
   "execution_count": null,
   "metadata": {
    "collapsed": true
   },
   "outputs": [],
   "source": []
  }
 ],
 "metadata": {
  "kernelspec": {
   "display_name": "Python 3",
   "language": "python",
   "name": "python3"
  },
  "language_info": {
   "codemirror_mode": {
    "name": "ipython",
    "version": 3
   },
   "file_extension": ".py",
   "mimetype": "text/x-python",
   "name": "python",
   "nbconvert_exporter": "python",
   "pygments_lexer": "ipython3",
   "version": "3.6.3"
  }
 },
 "nbformat": 4,
 "nbformat_minor": 2
}
